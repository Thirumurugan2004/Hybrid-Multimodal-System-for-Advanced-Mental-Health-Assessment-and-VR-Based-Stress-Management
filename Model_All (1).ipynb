{
  "metadata": {
    "kernelspec": {
      "language": "python",
      "display_name": "Python 3",
      "name": "python3"
    },
    "language_info": {
      "name": "python",
      "version": "3.7.12",
      "mimetype": "text/x-python",
      "codemirror_mode": {
        "name": "ipython",
        "version": 3
      },
      "pygments_lexer": "ipython3",
      "nbconvert_exporter": "python",
      "file_extension": ".py"
    },
    "kaggle": {
      "accelerator": "none",
      "dataSources": [
        {
          "sourceId": 3233540,
          "sourceType": "datasetVersion",
          "datasetId": 1960298
        }
      ],
      "dockerImageVersionId": 30407,
      "isInternetEnabled": false,
      "language": "python",
      "sourceType": "notebook",
      "isGpuEnabled": false
    },
    "colab": {
      "provenance": []
    }
  },
  "nbformat_minor": 0,
  "nbformat": 4,
  "cells": [
    {
      "cell_type": "markdown",
      "source": [
        "#Kaggle Access\n",
        "-> This Python 3 environment comes with many helpful analytics libraries installed\n",
        "-> It is defined by the kaggle/python Docker image: https://github.com/kaggle/docker-python\n",
        "-> For example, here's several helpful packages to load\n",
        "\n",
        "import numpy as np # linear algebra\n",
        "import pandas as pd # data processing, CSV file I/O (e.g. pd.read_csv)\n",
        "\n",
        "-> Input data files are available in the read-only \"../input/\" directory\n",
        "-> For example, running this (by clicking run or pressing Shift+Enter) will list all files under the input directory\n",
        "\n",
        "import os\n",
        "for dirname, _, filenames in os.walk('/kaggle/input'):\n",
        "    for filename in filenames:\n",
        "        print(os.path.join(dirname, filename))\n",
        "\n",
        "-> You can write up to 20GB to the current directory (/kaggle/working/) that gets preserved as output when you create a version using \"Save & Run All\"\n",
        "-> You can also write temporary files to /kaggle/temp/, but they won't be saved outside of the current session"
      ],
      "metadata": {
        "id": "AweHmGCvJwdd"
      }
    },
    {
      "cell_type": "markdown",
      "source": [
        "#Step 01 : Import important libraries"
      ],
      "metadata": {
        "editable": false,
        "id": "pgTMzvOfIrcI"
      }
    },
    {
      "cell_type": "code",
      "source": [
        "import numpy as np\n",
        "import pandas as pd\n",
        "import seaborn as sns\n",
        "import matplotlib.pyplot as plt\n",
        "from sklearn.linear_model import ElasticNet\n",
        "from sklearn.preprocessing import OrdinalEncoder, StandardScaler, LabelEncoder\n",
        "from imblearn.over_sampling import SMOTE\n",
        "from sklearn.model_selection import train_test_split, cross_val_score, KFold\n",
        "from sklearn.metrics import confusion_matrix, classification_report, precision_score, accuracy_score, recall_score, roc_curve, auc\n",
        "from xgboost import XGBClassifier\n",
        "import lightgbm as lgb\n",
        "from sklearn.discriminant_analysis import LinearDiscriminantAnalysis, QuadraticDiscriminantAnalysis\n",
        "from sklearn.ensemble import AdaBoostClassifier, GradientBoostingClassifier\n",
        "from sklearn.neighbors import KNeighborsClassifier"
      ],
      "metadata": {
        "execution": {
          "iopub.status.busy": "2024-09-17T06:20:20.462961Z",
          "iopub.execute_input": "2024-09-17T06:20:20.463605Z",
          "iopub.status.idle": "2024-09-17T06:20:20.472476Z",
          "shell.execute_reply.started": "2024-09-17T06:20:20.463480Z",
          "shell.execute_reply": "2024-09-17T06:20:20.470826Z"
        },
        "editable": false,
        "trusted": true,
        "id": "rGqecSYnIrcJ"
      },
      "execution_count": 11,
      "outputs": []
    },
    {
      "cell_type": "markdown",
      "source": [
        "#Step 02 : Access Dataset through directory"
      ],
      "metadata": {
        "editable": false,
        "id": "Xm6f8qK6IrcK"
      }
    },
    {
      "cell_type": "code",
      "source": [
        "data = pd.read_csv('/content/EEG.machinelearing_data_BRMH.csv')"
      ],
      "metadata": {
        "execution": {
          "iopub.status.busy": "2024-09-17T06:20:24.592304Z",
          "iopub.execute_input": "2024-09-17T06:20:24.593320Z",
          "iopub.status.idle": "2024-09-17T06:20:24.925769Z",
          "shell.execute_reply.started": "2024-09-17T06:20:24.593256Z",
          "shell.execute_reply": "2024-09-17T06:20:24.924380Z"
        },
        "editable": false,
        "trusted": true,
        "id": "-GvCuby0IrcK"
      },
      "execution_count": 12,
      "outputs": []
    },
    {
      "cell_type": "markdown",
      "source": [
        "#Step 03 : Print Overview of Columns, Rows, DataTypes"
      ],
      "metadata": {
        "editable": false,
        "id": "qdT7f6slIrcL"
      }
    },
    {
      "cell_type": "code",
      "source": [
        "print(data.info())"
      ],
      "metadata": {
        "execution": {
          "iopub.status.busy": "2024-09-17T06:20:28.480991Z",
          "iopub.execute_input": "2024-09-17T06:20:28.481414Z",
          "iopub.status.idle": "2024-09-17T06:20:28.570093Z",
          "shell.execute_reply.started": "2024-09-17T06:20:28.481376Z",
          "shell.execute_reply": "2024-09-17T06:20:28.568454Z"
        },
        "editable": false,
        "trusted": true,
        "colab": {
          "base_uri": "https://localhost:8080/"
        },
        "id": "NLXGBdCVIrcL",
        "outputId": "532b07ab-1634-4e16-9250-f811fa02f75f"
      },
      "execution_count": 4,
      "outputs": [
        {
          "output_type": "stream",
          "name": "stdout",
          "text": [
            "<class 'pandas.core.frame.DataFrame'>\n",
            "RangeIndex: 847 entries, 0 to 846\n",
            "Columns: 1149 entries, no. to COH.F.gamma.r.O1.s.O2\n",
            "dtypes: float64(1144), int64(1), object(4)\n",
            "memory usage: 7.4+ MB\n",
            "None\n"
          ]
        }
      ]
    },
    {
      "cell_type": "markdown",
      "source": [
        "#Step 04 : Print no. of rows, columns along with first 5 rows"
      ],
      "metadata": {
        "editable": false,
        "id": "pAI2bSu-IrcM"
      }
    },
    {
      "cell_type": "code",
      "source": [
        "print('No. of rows & columns :',data.shape)\n",
        "print('Top 5 rows are :')\n",
        "data.head(5)"
      ],
      "metadata": {
        "execution": {
          "iopub.status.busy": "2024-09-17T06:20:32.767974Z",
          "iopub.execute_input": "2024-09-17T06:20:32.768567Z",
          "iopub.status.idle": "2024-09-17T06:20:32.818488Z",
          "shell.execute_reply.started": "2024-09-17T06:20:32.768511Z",
          "shell.execute_reply": "2024-09-17T06:20:32.816724Z"
        },
        "editable": false,
        "trusted": true,
        "colab": {
          "base_uri": "https://localhost:8080/",
          "height": 377
        },
        "id": "IOqx4Nb9IrcM",
        "outputId": "16c83ec6-a8ed-4c82-d23a-81be41416adc"
      },
      "execution_count": 5,
      "outputs": [
        {
          "output_type": "stream",
          "name": "stdout",
          "text": [
            "No. of rows & columns : (847, 1149)\n",
            "Top 5 rows are :\n"
          ]
        },
        {
          "output_type": "execute_result",
          "data": {
            "text/plain": [
              "   no. sex   age    eeg.date  education     IQ       main.disorder  \\\n",
              "0    1   M  57.0   2012.8.30        NaN    NaN  Addictive disorder   \n",
              "1    2   M  37.0    2012.9.6        6.0  120.0  Addictive disorder   \n",
              "2    3   M  32.0   2012.9.10       16.0  113.0  Addictive disorder   \n",
              "3    4   M  35.0   2012.10.8       18.0  126.0  Addictive disorder   \n",
              "4    5   M  36.0  2012.10.18       16.0  112.0  Addictive disorder   \n",
              "\n",
              "      specific.disorder  AB.A.delta.a.FP1  AB.A.delta.b.FP2  ...  \\\n",
              "0  Alcohol use disorder         35.998557         21.717375  ...   \n",
              "1  Alcohol use disorder         13.425118         11.002916  ...   \n",
              "2  Alcohol use disorder         29.941780         27.544684  ...   \n",
              "3  Alcohol use disorder         21.496226         21.846832  ...   \n",
              "4  Alcohol use disorder         37.775667         33.607679  ...   \n",
              "\n",
              "   COH.F.gamma.o.Pz.p.P4  COH.F.gamma.o.Pz.q.T6  COH.F.gamma.o.Pz.r.O1  \\\n",
              "0              55.989192              16.739679              23.452271   \n",
              "1              45.595619              17.510824              26.777368   \n",
              "2              99.475453              70.654171              39.131547   \n",
              "3              59.986561              63.822201              36.478254   \n",
              "4              61.462720              59.166097              51.465531   \n",
              "\n",
              "   COH.F.gamma.o.Pz.s.O2  COH.F.gamma.p.P4.q.T6  COH.F.gamma.p.P4.r.O1  \\\n",
              "0              45.678820              30.167520              16.918761   \n",
              "1              28.201062              57.108861              32.375401   \n",
              "2              69.920996              71.063644              38.534505   \n",
              "3              47.117006              84.658376              24.724096   \n",
              "4              58.635415              80.685608              62.138436   \n",
              "\n",
              "   COH.F.gamma.p.P4.s.O2  COH.F.gamma.q.T6.r.O1  COH.F.gamma.q.T6.s.O2  \\\n",
              "0              48.850427               9.422630              34.507082   \n",
              "1              60.351749              13.900981              57.831848   \n",
              "2              69.908764              27.180532              64.803155   \n",
              "3              50.299349              35.319695              79.822944   \n",
              "4              75.888749              61.003944              87.455509   \n",
              "\n",
              "   COH.F.gamma.r.O1.s.O2  \n",
              "0              28.613029  \n",
              "1              43.463261  \n",
              "2              31.485799  \n",
              "3              41.141873  \n",
              "4              70.531662  \n",
              "\n",
              "[5 rows x 1149 columns]"
            ],
            "text/html": [
              "\n",
              "  <div id=\"df-f6f00604-19f3-4c68-a8fb-7eb502e6bd93\" class=\"colab-df-container\">\n",
              "    <div>\n",
              "<style scoped>\n",
              "    .dataframe tbody tr th:only-of-type {\n",
              "        vertical-align: middle;\n",
              "    }\n",
              "\n",
              "    .dataframe tbody tr th {\n",
              "        vertical-align: top;\n",
              "    }\n",
              "\n",
              "    .dataframe thead th {\n",
              "        text-align: right;\n",
              "    }\n",
              "</style>\n",
              "<table border=\"1\" class=\"dataframe\">\n",
              "  <thead>\n",
              "    <tr style=\"text-align: right;\">\n",
              "      <th></th>\n",
              "      <th>no.</th>\n",
              "      <th>sex</th>\n",
              "      <th>age</th>\n",
              "      <th>eeg.date</th>\n",
              "      <th>education</th>\n",
              "      <th>IQ</th>\n",
              "      <th>main.disorder</th>\n",
              "      <th>specific.disorder</th>\n",
              "      <th>AB.A.delta.a.FP1</th>\n",
              "      <th>AB.A.delta.b.FP2</th>\n",
              "      <th>...</th>\n",
              "      <th>COH.F.gamma.o.Pz.p.P4</th>\n",
              "      <th>COH.F.gamma.o.Pz.q.T6</th>\n",
              "      <th>COH.F.gamma.o.Pz.r.O1</th>\n",
              "      <th>COH.F.gamma.o.Pz.s.O2</th>\n",
              "      <th>COH.F.gamma.p.P4.q.T6</th>\n",
              "      <th>COH.F.gamma.p.P4.r.O1</th>\n",
              "      <th>COH.F.gamma.p.P4.s.O2</th>\n",
              "      <th>COH.F.gamma.q.T6.r.O1</th>\n",
              "      <th>COH.F.gamma.q.T6.s.O2</th>\n",
              "      <th>COH.F.gamma.r.O1.s.O2</th>\n",
              "    </tr>\n",
              "  </thead>\n",
              "  <tbody>\n",
              "    <tr>\n",
              "      <th>0</th>\n",
              "      <td>1</td>\n",
              "      <td>M</td>\n",
              "      <td>57.0</td>\n",
              "      <td>2012.8.30</td>\n",
              "      <td>NaN</td>\n",
              "      <td>NaN</td>\n",
              "      <td>Addictive disorder</td>\n",
              "      <td>Alcohol use disorder</td>\n",
              "      <td>35.998557</td>\n",
              "      <td>21.717375</td>\n",
              "      <td>...</td>\n",
              "      <td>55.989192</td>\n",
              "      <td>16.739679</td>\n",
              "      <td>23.452271</td>\n",
              "      <td>45.678820</td>\n",
              "      <td>30.167520</td>\n",
              "      <td>16.918761</td>\n",
              "      <td>48.850427</td>\n",
              "      <td>9.422630</td>\n",
              "      <td>34.507082</td>\n",
              "      <td>28.613029</td>\n",
              "    </tr>\n",
              "    <tr>\n",
              "      <th>1</th>\n",
              "      <td>2</td>\n",
              "      <td>M</td>\n",
              "      <td>37.0</td>\n",
              "      <td>2012.9.6</td>\n",
              "      <td>6.0</td>\n",
              "      <td>120.0</td>\n",
              "      <td>Addictive disorder</td>\n",
              "      <td>Alcohol use disorder</td>\n",
              "      <td>13.425118</td>\n",
              "      <td>11.002916</td>\n",
              "      <td>...</td>\n",
              "      <td>45.595619</td>\n",
              "      <td>17.510824</td>\n",
              "      <td>26.777368</td>\n",
              "      <td>28.201062</td>\n",
              "      <td>57.108861</td>\n",
              "      <td>32.375401</td>\n",
              "      <td>60.351749</td>\n",
              "      <td>13.900981</td>\n",
              "      <td>57.831848</td>\n",
              "      <td>43.463261</td>\n",
              "    </tr>\n",
              "    <tr>\n",
              "      <th>2</th>\n",
              "      <td>3</td>\n",
              "      <td>M</td>\n",
              "      <td>32.0</td>\n",
              "      <td>2012.9.10</td>\n",
              "      <td>16.0</td>\n",
              "      <td>113.0</td>\n",
              "      <td>Addictive disorder</td>\n",
              "      <td>Alcohol use disorder</td>\n",
              "      <td>29.941780</td>\n",
              "      <td>27.544684</td>\n",
              "      <td>...</td>\n",
              "      <td>99.475453</td>\n",
              "      <td>70.654171</td>\n",
              "      <td>39.131547</td>\n",
              "      <td>69.920996</td>\n",
              "      <td>71.063644</td>\n",
              "      <td>38.534505</td>\n",
              "      <td>69.908764</td>\n",
              "      <td>27.180532</td>\n",
              "      <td>64.803155</td>\n",
              "      <td>31.485799</td>\n",
              "    </tr>\n",
              "    <tr>\n",
              "      <th>3</th>\n",
              "      <td>4</td>\n",
              "      <td>M</td>\n",
              "      <td>35.0</td>\n",
              "      <td>2012.10.8</td>\n",
              "      <td>18.0</td>\n",
              "      <td>126.0</td>\n",
              "      <td>Addictive disorder</td>\n",
              "      <td>Alcohol use disorder</td>\n",
              "      <td>21.496226</td>\n",
              "      <td>21.846832</td>\n",
              "      <td>...</td>\n",
              "      <td>59.986561</td>\n",
              "      <td>63.822201</td>\n",
              "      <td>36.478254</td>\n",
              "      <td>47.117006</td>\n",
              "      <td>84.658376</td>\n",
              "      <td>24.724096</td>\n",
              "      <td>50.299349</td>\n",
              "      <td>35.319695</td>\n",
              "      <td>79.822944</td>\n",
              "      <td>41.141873</td>\n",
              "    </tr>\n",
              "    <tr>\n",
              "      <th>4</th>\n",
              "      <td>5</td>\n",
              "      <td>M</td>\n",
              "      <td>36.0</td>\n",
              "      <td>2012.10.18</td>\n",
              "      <td>16.0</td>\n",
              "      <td>112.0</td>\n",
              "      <td>Addictive disorder</td>\n",
              "      <td>Alcohol use disorder</td>\n",
              "      <td>37.775667</td>\n",
              "      <td>33.607679</td>\n",
              "      <td>...</td>\n",
              "      <td>61.462720</td>\n",
              "      <td>59.166097</td>\n",
              "      <td>51.465531</td>\n",
              "      <td>58.635415</td>\n",
              "      <td>80.685608</td>\n",
              "      <td>62.138436</td>\n",
              "      <td>75.888749</td>\n",
              "      <td>61.003944</td>\n",
              "      <td>87.455509</td>\n",
              "      <td>70.531662</td>\n",
              "    </tr>\n",
              "  </tbody>\n",
              "</table>\n",
              "<p>5 rows × 1149 columns</p>\n",
              "</div>\n",
              "    <div class=\"colab-df-buttons\">\n",
              "\n",
              "  <div class=\"colab-df-container\">\n",
              "    <button class=\"colab-df-convert\" onclick=\"convertToInteractive('df-f6f00604-19f3-4c68-a8fb-7eb502e6bd93')\"\n",
              "            title=\"Convert this dataframe to an interactive table.\"\n",
              "            style=\"display:none;\">\n",
              "\n",
              "  <svg xmlns=\"http://www.w3.org/2000/svg\" height=\"24px\" viewBox=\"0 -960 960 960\">\n",
              "    <path d=\"M120-120v-720h720v720H120Zm60-500h600v-160H180v160Zm220 220h160v-160H400v160Zm0 220h160v-160H400v160ZM180-400h160v-160H180v160Zm440 0h160v-160H620v160ZM180-180h160v-160H180v160Zm440 0h160v-160H620v160Z\"/>\n",
              "  </svg>\n",
              "    </button>\n",
              "\n",
              "  <style>\n",
              "    .colab-df-container {\n",
              "      display:flex;\n",
              "      gap: 12px;\n",
              "    }\n",
              "\n",
              "    .colab-df-convert {\n",
              "      background-color: #E8F0FE;\n",
              "      border: none;\n",
              "      border-radius: 50%;\n",
              "      cursor: pointer;\n",
              "      display: none;\n",
              "      fill: #1967D2;\n",
              "      height: 32px;\n",
              "      padding: 0 0 0 0;\n",
              "      width: 32px;\n",
              "    }\n",
              "\n",
              "    .colab-df-convert:hover {\n",
              "      background-color: #E2EBFA;\n",
              "      box-shadow: 0px 1px 2px rgba(60, 64, 67, 0.3), 0px 1px 3px 1px rgba(60, 64, 67, 0.15);\n",
              "      fill: #174EA6;\n",
              "    }\n",
              "\n",
              "    .colab-df-buttons div {\n",
              "      margin-bottom: 4px;\n",
              "    }\n",
              "\n",
              "    [theme=dark] .colab-df-convert {\n",
              "      background-color: #3B4455;\n",
              "      fill: #D2E3FC;\n",
              "    }\n",
              "\n",
              "    [theme=dark] .colab-df-convert:hover {\n",
              "      background-color: #434B5C;\n",
              "      box-shadow: 0px 1px 3px 1px rgba(0, 0, 0, 0.15);\n",
              "      filter: drop-shadow(0px 1px 2px rgba(0, 0, 0, 0.3));\n",
              "      fill: #FFFFFF;\n",
              "    }\n",
              "  </style>\n",
              "\n",
              "    <script>\n",
              "      const buttonEl =\n",
              "        document.querySelector('#df-f6f00604-19f3-4c68-a8fb-7eb502e6bd93 button.colab-df-convert');\n",
              "      buttonEl.style.display =\n",
              "        google.colab.kernel.accessAllowed ? 'block' : 'none';\n",
              "\n",
              "      async function convertToInteractive(key) {\n",
              "        const element = document.querySelector('#df-f6f00604-19f3-4c68-a8fb-7eb502e6bd93');\n",
              "        const dataTable =\n",
              "          await google.colab.kernel.invokeFunction('convertToInteractive',\n",
              "                                                    [key], {});\n",
              "        if (!dataTable) return;\n",
              "\n",
              "        const docLinkHtml = 'Like what you see? Visit the ' +\n",
              "          '<a target=\"_blank\" href=https://colab.research.google.com/notebooks/data_table.ipynb>data table notebook</a>'\n",
              "          + ' to learn more about interactive tables.';\n",
              "        element.innerHTML = '';\n",
              "        dataTable['output_type'] = 'display_data';\n",
              "        await google.colab.output.renderOutput(dataTable, element);\n",
              "        const docLink = document.createElement('div');\n",
              "        docLink.innerHTML = docLinkHtml;\n",
              "        element.appendChild(docLink);\n",
              "      }\n",
              "    </script>\n",
              "  </div>\n",
              "\n",
              "\n",
              "<div id=\"df-d5f50d66-4acf-4d5e-9af6-015f524fb249\">\n",
              "  <button class=\"colab-df-quickchart\" onclick=\"quickchart('df-d5f50d66-4acf-4d5e-9af6-015f524fb249')\"\n",
              "            title=\"Suggest charts\"\n",
              "            style=\"display:none;\">\n",
              "\n",
              "<svg xmlns=\"http://www.w3.org/2000/svg\" height=\"24px\"viewBox=\"0 0 24 24\"\n",
              "     width=\"24px\">\n",
              "    <g>\n",
              "        <path d=\"M19 3H5c-1.1 0-2 .9-2 2v14c0 1.1.9 2 2 2h14c1.1 0 2-.9 2-2V5c0-1.1-.9-2-2-2zM9 17H7v-7h2v7zm4 0h-2V7h2v10zm4 0h-2v-4h2v4z\"/>\n",
              "    </g>\n",
              "</svg>\n",
              "  </button>\n",
              "\n",
              "<style>\n",
              "  .colab-df-quickchart {\n",
              "      --bg-color: #E8F0FE;\n",
              "      --fill-color: #1967D2;\n",
              "      --hover-bg-color: #E2EBFA;\n",
              "      --hover-fill-color: #174EA6;\n",
              "      --disabled-fill-color: #AAA;\n",
              "      --disabled-bg-color: #DDD;\n",
              "  }\n",
              "\n",
              "  [theme=dark] .colab-df-quickchart {\n",
              "      --bg-color: #3B4455;\n",
              "      --fill-color: #D2E3FC;\n",
              "      --hover-bg-color: #434B5C;\n",
              "      --hover-fill-color: #FFFFFF;\n",
              "      --disabled-bg-color: #3B4455;\n",
              "      --disabled-fill-color: #666;\n",
              "  }\n",
              "\n",
              "  .colab-df-quickchart {\n",
              "    background-color: var(--bg-color);\n",
              "    border: none;\n",
              "    border-radius: 50%;\n",
              "    cursor: pointer;\n",
              "    display: none;\n",
              "    fill: var(--fill-color);\n",
              "    height: 32px;\n",
              "    padding: 0;\n",
              "    width: 32px;\n",
              "  }\n",
              "\n",
              "  .colab-df-quickchart:hover {\n",
              "    background-color: var(--hover-bg-color);\n",
              "    box-shadow: 0 1px 2px rgba(60, 64, 67, 0.3), 0 1px 3px 1px rgba(60, 64, 67, 0.15);\n",
              "    fill: var(--button-hover-fill-color);\n",
              "  }\n",
              "\n",
              "  .colab-df-quickchart-complete:disabled,\n",
              "  .colab-df-quickchart-complete:disabled:hover {\n",
              "    background-color: var(--disabled-bg-color);\n",
              "    fill: var(--disabled-fill-color);\n",
              "    box-shadow: none;\n",
              "  }\n",
              "\n",
              "  .colab-df-spinner {\n",
              "    border: 2px solid var(--fill-color);\n",
              "    border-color: transparent;\n",
              "    border-bottom-color: var(--fill-color);\n",
              "    animation:\n",
              "      spin 1s steps(1) infinite;\n",
              "  }\n",
              "\n",
              "  @keyframes spin {\n",
              "    0% {\n",
              "      border-color: transparent;\n",
              "      border-bottom-color: var(--fill-color);\n",
              "      border-left-color: var(--fill-color);\n",
              "    }\n",
              "    20% {\n",
              "      border-color: transparent;\n",
              "      border-left-color: var(--fill-color);\n",
              "      border-top-color: var(--fill-color);\n",
              "    }\n",
              "    30% {\n",
              "      border-color: transparent;\n",
              "      border-left-color: var(--fill-color);\n",
              "      border-top-color: var(--fill-color);\n",
              "      border-right-color: var(--fill-color);\n",
              "    }\n",
              "    40% {\n",
              "      border-color: transparent;\n",
              "      border-right-color: var(--fill-color);\n",
              "      border-top-color: var(--fill-color);\n",
              "    }\n",
              "    60% {\n",
              "      border-color: transparent;\n",
              "      border-right-color: var(--fill-color);\n",
              "    }\n",
              "    80% {\n",
              "      border-color: transparent;\n",
              "      border-right-color: var(--fill-color);\n",
              "      border-bottom-color: var(--fill-color);\n",
              "    }\n",
              "    90% {\n",
              "      border-color: transparent;\n",
              "      border-bottom-color: var(--fill-color);\n",
              "    }\n",
              "  }\n",
              "</style>\n",
              "\n",
              "  <script>\n",
              "    async function quickchart(key) {\n",
              "      const quickchartButtonEl =\n",
              "        document.querySelector('#' + key + ' button');\n",
              "      quickchartButtonEl.disabled = true;  // To prevent multiple clicks.\n",
              "      quickchartButtonEl.classList.add('colab-df-spinner');\n",
              "      try {\n",
              "        const charts = await google.colab.kernel.invokeFunction(\n",
              "            'suggestCharts', [key], {});\n",
              "      } catch (error) {\n",
              "        console.error('Error during call to suggestCharts:', error);\n",
              "      }\n",
              "      quickchartButtonEl.classList.remove('colab-df-spinner');\n",
              "      quickchartButtonEl.classList.add('colab-df-quickchart-complete');\n",
              "    }\n",
              "    (() => {\n",
              "      let quickchartButtonEl =\n",
              "        document.querySelector('#df-d5f50d66-4acf-4d5e-9af6-015f524fb249 button');\n",
              "      quickchartButtonEl.style.display =\n",
              "        google.colab.kernel.accessAllowed ? 'block' : 'none';\n",
              "    })();\n",
              "  </script>\n",
              "</div>\n",
              "\n",
              "    </div>\n",
              "  </div>\n"
            ],
            "application/vnd.google.colaboratory.intrinsic+json": {
              "type": "dataframe",
              "variable_name": "data"
            }
          },
          "metadata": {},
          "execution_count": 5
        }
      ]
    },
    {
      "cell_type": "markdown",
      "source": [
        "#Step 05 : Acquire the datatype of one of the Nan containg columns & fill them with their mean"
      ],
      "metadata": {
        "editable": false,
        "id": "SAVljx1fIrcM"
      }
    },
    {
      "cell_type": "code",
      "source": [
        "print('Education datatype : ',data['education'].dtypes)\n",
        "# Calculate the mean only for numeric columns\n",
        "data = data.fillna(data.mean(numeric_only=True))"
      ],
      "metadata": {
        "execution": {
          "iopub.status.busy": "2024-09-17T06:20:44.688574Z",
          "iopub.execute_input": "2024-09-17T06:20:44.689107Z",
          "iopub.status.idle": "2024-09-17T06:20:44.964014Z",
          "shell.execute_reply.started": "2024-09-17T06:20:44.689059Z",
          "shell.execute_reply": "2024-09-17T06:20:44.962701Z"
        },
        "editable": false,
        "trusted": true,
        "colab": {
          "base_uri": "https://localhost:8080/"
        },
        "id": "P8AH6csDIrcM",
        "outputId": "88c6653c-6ffa-4136-d3b0-95e79c8b7bb0"
      },
      "execution_count": 6,
      "outputs": [
        {
          "output_type": "stream",
          "name": "stdout",
          "text": [
            "Education datatype :  float64\n"
          ]
        }
      ]
    },
    {
      "cell_type": "code",
      "source": [
        "data.head()"
      ],
      "metadata": {
        "execution": {
          "iopub.status.busy": "2024-09-17T06:20:47.455792Z",
          "iopub.execute_input": "2024-09-17T06:20:47.456385Z",
          "iopub.status.idle": "2024-09-17T06:20:47.496632Z",
          "shell.execute_reply.started": "2024-09-17T06:20:47.456257Z",
          "shell.execute_reply": "2024-09-17T06:20:47.494438Z"
        },
        "editable": false,
        "trusted": true,
        "colab": {
          "base_uri": "https://localhost:8080/",
          "height": 342
        },
        "id": "qdkh5WV0IrcM",
        "outputId": "7d82ce3e-24dd-498a-f962-e11599fe908c"
      },
      "execution_count": 7,
      "outputs": [
        {
          "output_type": "execute_result",
          "data": {
            "text/plain": [
              "   no. sex   age    eeg.date  education          IQ       main.disorder  \\\n",
              "0    1   M  57.0   2012.8.30  13.461538  101.387755  Addictive disorder   \n",
              "1    2   M  37.0    2012.9.6   6.000000  120.000000  Addictive disorder   \n",
              "2    3   M  32.0   2012.9.10  16.000000  113.000000  Addictive disorder   \n",
              "3    4   M  35.0   2012.10.8  18.000000  126.000000  Addictive disorder   \n",
              "4    5   M  36.0  2012.10.18  16.000000  112.000000  Addictive disorder   \n",
              "\n",
              "      specific.disorder  AB.A.delta.a.FP1  AB.A.delta.b.FP2  ...  \\\n",
              "0  Alcohol use disorder         35.998557         21.717375  ...   \n",
              "1  Alcohol use disorder         13.425118         11.002916  ...   \n",
              "2  Alcohol use disorder         29.941780         27.544684  ...   \n",
              "3  Alcohol use disorder         21.496226         21.846832  ...   \n",
              "4  Alcohol use disorder         37.775667         33.607679  ...   \n",
              "\n",
              "   COH.F.gamma.o.Pz.p.P4  COH.F.gamma.o.Pz.q.T6  COH.F.gamma.o.Pz.r.O1  \\\n",
              "0              55.989192              16.739679              23.452271   \n",
              "1              45.595619              17.510824              26.777368   \n",
              "2              99.475453              70.654171              39.131547   \n",
              "3              59.986561              63.822201              36.478254   \n",
              "4              61.462720              59.166097              51.465531   \n",
              "\n",
              "   COH.F.gamma.o.Pz.s.O2  COH.F.gamma.p.P4.q.T6  COH.F.gamma.p.P4.r.O1  \\\n",
              "0              45.678820              30.167520              16.918761   \n",
              "1              28.201062              57.108861              32.375401   \n",
              "2              69.920996              71.063644              38.534505   \n",
              "3              47.117006              84.658376              24.724096   \n",
              "4              58.635415              80.685608              62.138436   \n",
              "\n",
              "   COH.F.gamma.p.P4.s.O2  COH.F.gamma.q.T6.r.O1  COH.F.gamma.q.T6.s.O2  \\\n",
              "0              48.850427               9.422630              34.507082   \n",
              "1              60.351749              13.900981              57.831848   \n",
              "2              69.908764              27.180532              64.803155   \n",
              "3              50.299349              35.319695              79.822944   \n",
              "4              75.888749              61.003944              87.455509   \n",
              "\n",
              "   COH.F.gamma.r.O1.s.O2  \n",
              "0              28.613029  \n",
              "1              43.463261  \n",
              "2              31.485799  \n",
              "3              41.141873  \n",
              "4              70.531662  \n",
              "\n",
              "[5 rows x 1149 columns]"
            ],
            "text/html": [
              "\n",
              "  <div id=\"df-43becca2-3883-4ad7-90e7-a6d21ccc6f6f\" class=\"colab-df-container\">\n",
              "    <div>\n",
              "<style scoped>\n",
              "    .dataframe tbody tr th:only-of-type {\n",
              "        vertical-align: middle;\n",
              "    }\n",
              "\n",
              "    .dataframe tbody tr th {\n",
              "        vertical-align: top;\n",
              "    }\n",
              "\n",
              "    .dataframe thead th {\n",
              "        text-align: right;\n",
              "    }\n",
              "</style>\n",
              "<table border=\"1\" class=\"dataframe\">\n",
              "  <thead>\n",
              "    <tr style=\"text-align: right;\">\n",
              "      <th></th>\n",
              "      <th>no.</th>\n",
              "      <th>sex</th>\n",
              "      <th>age</th>\n",
              "      <th>eeg.date</th>\n",
              "      <th>education</th>\n",
              "      <th>IQ</th>\n",
              "      <th>main.disorder</th>\n",
              "      <th>specific.disorder</th>\n",
              "      <th>AB.A.delta.a.FP1</th>\n",
              "      <th>AB.A.delta.b.FP2</th>\n",
              "      <th>...</th>\n",
              "      <th>COH.F.gamma.o.Pz.p.P4</th>\n",
              "      <th>COH.F.gamma.o.Pz.q.T6</th>\n",
              "      <th>COH.F.gamma.o.Pz.r.O1</th>\n",
              "      <th>COH.F.gamma.o.Pz.s.O2</th>\n",
              "      <th>COH.F.gamma.p.P4.q.T6</th>\n",
              "      <th>COH.F.gamma.p.P4.r.O1</th>\n",
              "      <th>COH.F.gamma.p.P4.s.O2</th>\n",
              "      <th>COH.F.gamma.q.T6.r.O1</th>\n",
              "      <th>COH.F.gamma.q.T6.s.O2</th>\n",
              "      <th>COH.F.gamma.r.O1.s.O2</th>\n",
              "    </tr>\n",
              "  </thead>\n",
              "  <tbody>\n",
              "    <tr>\n",
              "      <th>0</th>\n",
              "      <td>1</td>\n",
              "      <td>M</td>\n",
              "      <td>57.0</td>\n",
              "      <td>2012.8.30</td>\n",
              "      <td>13.461538</td>\n",
              "      <td>101.387755</td>\n",
              "      <td>Addictive disorder</td>\n",
              "      <td>Alcohol use disorder</td>\n",
              "      <td>35.998557</td>\n",
              "      <td>21.717375</td>\n",
              "      <td>...</td>\n",
              "      <td>55.989192</td>\n",
              "      <td>16.739679</td>\n",
              "      <td>23.452271</td>\n",
              "      <td>45.678820</td>\n",
              "      <td>30.167520</td>\n",
              "      <td>16.918761</td>\n",
              "      <td>48.850427</td>\n",
              "      <td>9.422630</td>\n",
              "      <td>34.507082</td>\n",
              "      <td>28.613029</td>\n",
              "    </tr>\n",
              "    <tr>\n",
              "      <th>1</th>\n",
              "      <td>2</td>\n",
              "      <td>M</td>\n",
              "      <td>37.0</td>\n",
              "      <td>2012.9.6</td>\n",
              "      <td>6.000000</td>\n",
              "      <td>120.000000</td>\n",
              "      <td>Addictive disorder</td>\n",
              "      <td>Alcohol use disorder</td>\n",
              "      <td>13.425118</td>\n",
              "      <td>11.002916</td>\n",
              "      <td>...</td>\n",
              "      <td>45.595619</td>\n",
              "      <td>17.510824</td>\n",
              "      <td>26.777368</td>\n",
              "      <td>28.201062</td>\n",
              "      <td>57.108861</td>\n",
              "      <td>32.375401</td>\n",
              "      <td>60.351749</td>\n",
              "      <td>13.900981</td>\n",
              "      <td>57.831848</td>\n",
              "      <td>43.463261</td>\n",
              "    </tr>\n",
              "    <tr>\n",
              "      <th>2</th>\n",
              "      <td>3</td>\n",
              "      <td>M</td>\n",
              "      <td>32.0</td>\n",
              "      <td>2012.9.10</td>\n",
              "      <td>16.000000</td>\n",
              "      <td>113.000000</td>\n",
              "      <td>Addictive disorder</td>\n",
              "      <td>Alcohol use disorder</td>\n",
              "      <td>29.941780</td>\n",
              "      <td>27.544684</td>\n",
              "      <td>...</td>\n",
              "      <td>99.475453</td>\n",
              "      <td>70.654171</td>\n",
              "      <td>39.131547</td>\n",
              "      <td>69.920996</td>\n",
              "      <td>71.063644</td>\n",
              "      <td>38.534505</td>\n",
              "      <td>69.908764</td>\n",
              "      <td>27.180532</td>\n",
              "      <td>64.803155</td>\n",
              "      <td>31.485799</td>\n",
              "    </tr>\n",
              "    <tr>\n",
              "      <th>3</th>\n",
              "      <td>4</td>\n",
              "      <td>M</td>\n",
              "      <td>35.0</td>\n",
              "      <td>2012.10.8</td>\n",
              "      <td>18.000000</td>\n",
              "      <td>126.000000</td>\n",
              "      <td>Addictive disorder</td>\n",
              "      <td>Alcohol use disorder</td>\n",
              "      <td>21.496226</td>\n",
              "      <td>21.846832</td>\n",
              "      <td>...</td>\n",
              "      <td>59.986561</td>\n",
              "      <td>63.822201</td>\n",
              "      <td>36.478254</td>\n",
              "      <td>47.117006</td>\n",
              "      <td>84.658376</td>\n",
              "      <td>24.724096</td>\n",
              "      <td>50.299349</td>\n",
              "      <td>35.319695</td>\n",
              "      <td>79.822944</td>\n",
              "      <td>41.141873</td>\n",
              "    </tr>\n",
              "    <tr>\n",
              "      <th>4</th>\n",
              "      <td>5</td>\n",
              "      <td>M</td>\n",
              "      <td>36.0</td>\n",
              "      <td>2012.10.18</td>\n",
              "      <td>16.000000</td>\n",
              "      <td>112.000000</td>\n",
              "      <td>Addictive disorder</td>\n",
              "      <td>Alcohol use disorder</td>\n",
              "      <td>37.775667</td>\n",
              "      <td>33.607679</td>\n",
              "      <td>...</td>\n",
              "      <td>61.462720</td>\n",
              "      <td>59.166097</td>\n",
              "      <td>51.465531</td>\n",
              "      <td>58.635415</td>\n",
              "      <td>80.685608</td>\n",
              "      <td>62.138436</td>\n",
              "      <td>75.888749</td>\n",
              "      <td>61.003944</td>\n",
              "      <td>87.455509</td>\n",
              "      <td>70.531662</td>\n",
              "    </tr>\n",
              "  </tbody>\n",
              "</table>\n",
              "<p>5 rows × 1149 columns</p>\n",
              "</div>\n",
              "    <div class=\"colab-df-buttons\">\n",
              "\n",
              "  <div class=\"colab-df-container\">\n",
              "    <button class=\"colab-df-convert\" onclick=\"convertToInteractive('df-43becca2-3883-4ad7-90e7-a6d21ccc6f6f')\"\n",
              "            title=\"Convert this dataframe to an interactive table.\"\n",
              "            style=\"display:none;\">\n",
              "\n",
              "  <svg xmlns=\"http://www.w3.org/2000/svg\" height=\"24px\" viewBox=\"0 -960 960 960\">\n",
              "    <path d=\"M120-120v-720h720v720H120Zm60-500h600v-160H180v160Zm220 220h160v-160H400v160Zm0 220h160v-160H400v160ZM180-400h160v-160H180v160Zm440 0h160v-160H620v160ZM180-180h160v-160H180v160Zm440 0h160v-160H620v160Z\"/>\n",
              "  </svg>\n",
              "    </button>\n",
              "\n",
              "  <style>\n",
              "    .colab-df-container {\n",
              "      display:flex;\n",
              "      gap: 12px;\n",
              "    }\n",
              "\n",
              "    .colab-df-convert {\n",
              "      background-color: #E8F0FE;\n",
              "      border: none;\n",
              "      border-radius: 50%;\n",
              "      cursor: pointer;\n",
              "      display: none;\n",
              "      fill: #1967D2;\n",
              "      height: 32px;\n",
              "      padding: 0 0 0 0;\n",
              "      width: 32px;\n",
              "    }\n",
              "\n",
              "    .colab-df-convert:hover {\n",
              "      background-color: #E2EBFA;\n",
              "      box-shadow: 0px 1px 2px rgba(60, 64, 67, 0.3), 0px 1px 3px 1px rgba(60, 64, 67, 0.15);\n",
              "      fill: #174EA6;\n",
              "    }\n",
              "\n",
              "    .colab-df-buttons div {\n",
              "      margin-bottom: 4px;\n",
              "    }\n",
              "\n",
              "    [theme=dark] .colab-df-convert {\n",
              "      background-color: #3B4455;\n",
              "      fill: #D2E3FC;\n",
              "    }\n",
              "\n",
              "    [theme=dark] .colab-df-convert:hover {\n",
              "      background-color: #434B5C;\n",
              "      box-shadow: 0px 1px 3px 1px rgba(0, 0, 0, 0.15);\n",
              "      filter: drop-shadow(0px 1px 2px rgba(0, 0, 0, 0.3));\n",
              "      fill: #FFFFFF;\n",
              "    }\n",
              "  </style>\n",
              "\n",
              "    <script>\n",
              "      const buttonEl =\n",
              "        document.querySelector('#df-43becca2-3883-4ad7-90e7-a6d21ccc6f6f button.colab-df-convert');\n",
              "      buttonEl.style.display =\n",
              "        google.colab.kernel.accessAllowed ? 'block' : 'none';\n",
              "\n",
              "      async function convertToInteractive(key) {\n",
              "        const element = document.querySelector('#df-43becca2-3883-4ad7-90e7-a6d21ccc6f6f');\n",
              "        const dataTable =\n",
              "          await google.colab.kernel.invokeFunction('convertToInteractive',\n",
              "                                                    [key], {});\n",
              "        if (!dataTable) return;\n",
              "\n",
              "        const docLinkHtml = 'Like what you see? Visit the ' +\n",
              "          '<a target=\"_blank\" href=https://colab.research.google.com/notebooks/data_table.ipynb>data table notebook</a>'\n",
              "          + ' to learn more about interactive tables.';\n",
              "        element.innerHTML = '';\n",
              "        dataTable['output_type'] = 'display_data';\n",
              "        await google.colab.output.renderOutput(dataTable, element);\n",
              "        const docLink = document.createElement('div');\n",
              "        docLink.innerHTML = docLinkHtml;\n",
              "        element.appendChild(docLink);\n",
              "      }\n",
              "    </script>\n",
              "  </div>\n",
              "\n",
              "\n",
              "<div id=\"df-4662f583-e38d-4c9c-bd67-289ec022da6b\">\n",
              "  <button class=\"colab-df-quickchart\" onclick=\"quickchart('df-4662f583-e38d-4c9c-bd67-289ec022da6b')\"\n",
              "            title=\"Suggest charts\"\n",
              "            style=\"display:none;\">\n",
              "\n",
              "<svg xmlns=\"http://www.w3.org/2000/svg\" height=\"24px\"viewBox=\"0 0 24 24\"\n",
              "     width=\"24px\">\n",
              "    <g>\n",
              "        <path d=\"M19 3H5c-1.1 0-2 .9-2 2v14c0 1.1.9 2 2 2h14c1.1 0 2-.9 2-2V5c0-1.1-.9-2-2-2zM9 17H7v-7h2v7zm4 0h-2V7h2v10zm4 0h-2v-4h2v4z\"/>\n",
              "    </g>\n",
              "</svg>\n",
              "  </button>\n",
              "\n",
              "<style>\n",
              "  .colab-df-quickchart {\n",
              "      --bg-color: #E8F0FE;\n",
              "      --fill-color: #1967D2;\n",
              "      --hover-bg-color: #E2EBFA;\n",
              "      --hover-fill-color: #174EA6;\n",
              "      --disabled-fill-color: #AAA;\n",
              "      --disabled-bg-color: #DDD;\n",
              "  }\n",
              "\n",
              "  [theme=dark] .colab-df-quickchart {\n",
              "      --bg-color: #3B4455;\n",
              "      --fill-color: #D2E3FC;\n",
              "      --hover-bg-color: #434B5C;\n",
              "      --hover-fill-color: #FFFFFF;\n",
              "      --disabled-bg-color: #3B4455;\n",
              "      --disabled-fill-color: #666;\n",
              "  }\n",
              "\n",
              "  .colab-df-quickchart {\n",
              "    background-color: var(--bg-color);\n",
              "    border: none;\n",
              "    border-radius: 50%;\n",
              "    cursor: pointer;\n",
              "    display: none;\n",
              "    fill: var(--fill-color);\n",
              "    height: 32px;\n",
              "    padding: 0;\n",
              "    width: 32px;\n",
              "  }\n",
              "\n",
              "  .colab-df-quickchart:hover {\n",
              "    background-color: var(--hover-bg-color);\n",
              "    box-shadow: 0 1px 2px rgba(60, 64, 67, 0.3), 0 1px 3px 1px rgba(60, 64, 67, 0.15);\n",
              "    fill: var(--button-hover-fill-color);\n",
              "  }\n",
              "\n",
              "  .colab-df-quickchart-complete:disabled,\n",
              "  .colab-df-quickchart-complete:disabled:hover {\n",
              "    background-color: var(--disabled-bg-color);\n",
              "    fill: var(--disabled-fill-color);\n",
              "    box-shadow: none;\n",
              "  }\n",
              "\n",
              "  .colab-df-spinner {\n",
              "    border: 2px solid var(--fill-color);\n",
              "    border-color: transparent;\n",
              "    border-bottom-color: var(--fill-color);\n",
              "    animation:\n",
              "      spin 1s steps(1) infinite;\n",
              "  }\n",
              "\n",
              "  @keyframes spin {\n",
              "    0% {\n",
              "      border-color: transparent;\n",
              "      border-bottom-color: var(--fill-color);\n",
              "      border-left-color: var(--fill-color);\n",
              "    }\n",
              "    20% {\n",
              "      border-color: transparent;\n",
              "      border-left-color: var(--fill-color);\n",
              "      border-top-color: var(--fill-color);\n",
              "    }\n",
              "    30% {\n",
              "      border-color: transparent;\n",
              "      border-left-color: var(--fill-color);\n",
              "      border-top-color: var(--fill-color);\n",
              "      border-right-color: var(--fill-color);\n",
              "    }\n",
              "    40% {\n",
              "      border-color: transparent;\n",
              "      border-right-color: var(--fill-color);\n",
              "      border-top-color: var(--fill-color);\n",
              "    }\n",
              "    60% {\n",
              "      border-color: transparent;\n",
              "      border-right-color: var(--fill-color);\n",
              "    }\n",
              "    80% {\n",
              "      border-color: transparent;\n",
              "      border-right-color: var(--fill-color);\n",
              "      border-bottom-color: var(--fill-color);\n",
              "    }\n",
              "    90% {\n",
              "      border-color: transparent;\n",
              "      border-bottom-color: var(--fill-color);\n",
              "    }\n",
              "  }\n",
              "</style>\n",
              "\n",
              "  <script>\n",
              "    async function quickchart(key) {\n",
              "      const quickchartButtonEl =\n",
              "        document.querySelector('#' + key + ' button');\n",
              "      quickchartButtonEl.disabled = true;  // To prevent multiple clicks.\n",
              "      quickchartButtonEl.classList.add('colab-df-spinner');\n",
              "      try {\n",
              "        const charts = await google.colab.kernel.invokeFunction(\n",
              "            'suggestCharts', [key], {});\n",
              "      } catch (error) {\n",
              "        console.error('Error during call to suggestCharts:', error);\n",
              "      }\n",
              "      quickchartButtonEl.classList.remove('colab-df-spinner');\n",
              "      quickchartButtonEl.classList.add('colab-df-quickchart-complete');\n",
              "    }\n",
              "    (() => {\n",
              "      let quickchartButtonEl =\n",
              "        document.querySelector('#df-4662f583-e38d-4c9c-bd67-289ec022da6b button');\n",
              "      quickchartButtonEl.style.display =\n",
              "        google.colab.kernel.accessAllowed ? 'block' : 'none';\n",
              "    })();\n",
              "  </script>\n",
              "</div>\n",
              "\n",
              "    </div>\n",
              "  </div>\n"
            ],
            "application/vnd.google.colaboratory.intrinsic+json": {
              "type": "dataframe",
              "variable_name": "data"
            }
          },
          "metadata": {},
          "execution_count": 7
        }
      ]
    },
    {
      "cell_type": "markdown",
      "source": [
        "#Step 06 : Encoding the target column"
      ],
      "metadata": {
        "editable": false,
        "id": "6cbWPcn6IrcN"
      }
    },
    {
      "cell_type": "code",
      "source": [
        "# Save the original values before encoding\n",
        "original_disorders = data[['specific.disorder']].copy()\n",
        "\n",
        "# Apply encoding\n",
        "encoder.fit(data[['specific.disorder']])\n",
        "data['specific.disorder'] = encoder.transform(data[['specific.disorder']])\n",
        "\n",
        "# Get the unique original values and their corresponding encoded labels\n",
        "unique_original_disorders = original_disorders['specific.disorder'].unique()\n",
        "unique_encoded_disorders = encoder.transform(unique_original_disorders.reshape(-1, 1)).flatten()\n",
        "\n",
        "# Print each unique original value with its corresponding encoded label\n",
        "print(\"Actual disorder names with their encoded labels:\")\n",
        "for original, encoded in zip(unique_original_disorders, unique_encoded_disorders):\n",
        "    print({original},' ',{encoded})\n"
      ],
      "metadata": {
        "execution": {
          "iopub.status.busy": "2024-09-17T06:23:37.443586Z",
          "iopub.execute_input": "2024-09-17T06:23:37.444064Z",
          "iopub.status.idle": "2024-09-17T06:23:37.483432Z",
          "shell.execute_reply.started": "2024-09-17T06:23:37.444016Z",
          "shell.execute_reply": "2024-09-17T06:23:37.481826Z"
        },
        "editable": false,
        "trusted": true,
        "colab": {
          "base_uri": "https://localhost:8080/"
        },
        "id": "gm2S5ePRIrcN",
        "outputId": "b1366395-3a94-470f-e58c-6e72bf50e428"
      },
      "execution_count": 13,
      "outputs": [
        {
          "output_type": "stream",
          "name": "stdout",
          "text": [
            "Actual disorder names with their encoded labels:\n",
            "{'Alcohol use disorder'}   {2.0}\n",
            "{'Acute stress disorder'}   {0.0}\n",
            "{'Depressive disorder'}   {5.0}\n",
            "{'Healthy control'}   {6.0}\n",
            "{'Behavioral addiction disorder'}   {3.0}\n",
            "{'Obsessive compulsitve disorder'}   {7.0}\n",
            "{'Schizophrenia'}   {10.0}\n",
            "{'Panic disorder'}   {8.0}\n",
            "{'Social anxiety disorder'}   {11.0}\n",
            "{'Posttraumatic stress disorder'}   {9.0}\n",
            "{'Adjustment disorder'}   {1.0}\n",
            "{'Bipolar disorder'}   {4.0}\n"
          ]
        },
        {
          "output_type": "stream",
          "name": "stderr",
          "text": [
            "/usr/local/lib/python3.10/dist-packages/sklearn/base.py:465: UserWarning: X does not have valid feature names, but OrdinalEncoder was fitted with feature names\n",
            "  warnings.warn(\n"
          ]
        }
      ]
    },
    {
      "cell_type": "code",
      "source": [
        "#Initialize the encoder\n",
        "encoder = OrdinalEncoder()\n",
        "\n",
        "encoder.fit(data[['sex']])\n",
        "data['sex']= encoder.transform(data[['sex']])\n",
        "encoder.fit(data[['main.disorder']])\n",
        "data['main.disorder']= encoder.transform(data[['main.disorder']])\n",
        "\n",
        "encoder.fit(data[['specific.disorder']])\n",
        "data['specific.disorder']= encoder.transform(data[['specific.disorder']])\n",
        "print('The target column is encoded...')"
      ],
      "metadata": {
        "execution": {
          "iopub.status.busy": "2024-09-17T06:23:33.220936Z",
          "iopub.execute_input": "2024-09-17T06:23:33.222371Z",
          "iopub.status.idle": "2024-09-17T06:23:33.239219Z",
          "shell.execute_reply.started": "2024-09-17T06:23:33.222293Z",
          "shell.execute_reply": "2024-09-17T06:23:33.237918Z"
        },
        "editable": false,
        "trusted": true,
        "colab": {
          "base_uri": "https://localhost:8080/"
        },
        "id": "DLTckLScIrcN",
        "outputId": "add27e64-d081-4c6a-844a-e76b008f46f4"
      },
      "execution_count": 14,
      "outputs": [
        {
          "output_type": "stream",
          "name": "stdout",
          "text": [
            "The target column is encoded...\n"
          ]
        }
      ]
    },
    {
      "cell_type": "markdown",
      "source": [
        "#Step 07 : Drop unncessary columns"
      ],
      "metadata": {
        "editable": false,
        "id": "h7Tqee87IrcO"
      }
    },
    {
      "cell_type": "code",
      "source": [
        "# Check if the columns exist in the DataFrame before dropping them\n",
        "columns_to_drop = ['no.', 'eeg.date']\n",
        "existing_columns = [col for col in columns_to_drop if col in data.columns]\n",
        "\n",
        "if existing_columns:\n",
        "    data = data.drop(columns=existing_columns, axis=1)\n",
        "else:\n",
        "    print(\"The specified columns do not exist in the DataFrame.\")\n",
        "print('Non pivotal columns are removed')"
      ],
      "metadata": {
        "execution": {
          "iopub.status.busy": "2024-09-17T06:23:43.010881Z",
          "iopub.execute_input": "2024-09-17T06:23:43.011378Z",
          "iopub.status.idle": "2024-09-17T06:23:43.025652Z",
          "shell.execute_reply.started": "2024-09-17T06:23:43.011333Z",
          "shell.execute_reply": "2024-09-17T06:23:43.023240Z"
        },
        "editable": false,
        "trusted": true,
        "colab": {
          "base_uri": "https://localhost:8080/"
        },
        "id": "pcfGTqR6IrcO",
        "outputId": "330d60f4-43d5-4156-ca73-c05cc9c74742"
      },
      "execution_count": 15,
      "outputs": [
        {
          "output_type": "stream",
          "name": "stdout",
          "text": [
            "Non pivotal columns are removed\n"
          ]
        }
      ]
    },
    {
      "cell_type": "markdown",
      "source": [
        "#Step 08 : Check for null value containing columns"
      ],
      "metadata": {
        "editable": false,
        "id": "Ma7mPK9TIrcO"
      }
    },
    {
      "cell_type": "code",
      "source": [
        "print('The no.of null value containing column : ' )\n",
        "sum(data.isnull().sum())"
      ],
      "metadata": {
        "execution": {
          "iopub.status.busy": "2024-09-17T06:23:47.414320Z",
          "iopub.execute_input": "2024-09-17T06:23:47.414917Z",
          "iopub.status.idle": "2024-09-17T06:23:47.438038Z",
          "shell.execute_reply.started": "2024-09-17T06:23:47.414833Z",
          "shell.execute_reply": "2024-09-17T06:23:47.436022Z"
        },
        "editable": false,
        "trusted": true,
        "colab": {
          "base_uri": "https://localhost:8080/"
        },
        "id": "gYhNJkYTIrcO",
        "outputId": "c193dc5f-93a8-4c12-8a07-06eab2de3dea"
      },
      "execution_count": 16,
      "outputs": [
        {
          "output_type": "stream",
          "name": "stdout",
          "text": [
            "The no.of null value containing column : \n"
          ]
        },
        {
          "output_type": "execute_result",
          "data": {
            "text/plain": [
              "973"
            ]
          },
          "metadata": {},
          "execution_count": 16
        }
      ]
    },
    {
      "cell_type": "markdown",
      "source": [
        "Step 09 : Declare the target column"
      ],
      "metadata": {
        "editable": false,
        "id": "ZxjyhotYIrcO"
      }
    },
    {
      "cell_type": "code",
      "source": [
        "X= data.drop(columns=['specific.disorder','Unnamed: 122'], axis=1)\n",
        "y = data['specific.disorder']\n",
        "print('The target column is : specific.disorder')"
      ],
      "metadata": {
        "execution": {
          "iopub.status.busy": "2024-09-17T06:23:50.902963Z",
          "iopub.execute_input": "2024-09-17T06:23:50.903397Z",
          "iopub.status.idle": "2024-09-17T06:23:50.917229Z",
          "shell.execute_reply.started": "2024-09-17T06:23:50.903358Z",
          "shell.execute_reply": "2024-09-17T06:23:50.915193Z"
        },
        "editable": false,
        "trusted": true,
        "colab": {
          "base_uri": "https://localhost:8080/"
        },
        "id": "oDuntXiUIrcO",
        "outputId": "60b5936e-9288-404c-b3a8-fa527fc02e46"
      },
      "execution_count": 17,
      "outputs": [
        {
          "output_type": "stream",
          "name": "stdout",
          "text": [
            "The target column is : specific.disorder\n"
          ]
        }
      ]
    },
    {
      "cell_type": "markdown",
      "source": [
        "Step 10 : Fitting an Elastic Net model using scikit-learn"
      ],
      "metadata": {
        "editable": false,
        "id": "RHL2DFuiIrcP"
      }
    },
    {
      "cell_type": "code",
      "source": [
        "X.dropna(inplace=True)\n",
        "y = y[X.index] # make sure that y and X have the same index\n",
        "elastic_net = ElasticNet( alpha =.1, l1_ratio= .5)\n",
        "elastic_net.fit(X, y)\n",
        "print('ElasticNet model fitted')"
      ],
      "metadata": {
        "execution": {
          "iopub.status.busy": "2024-09-17T06:23:54.654935Z",
          "iopub.execute_input": "2024-09-17T06:23:54.655426Z",
          "iopub.status.idle": "2024-09-17T06:23:55.737379Z",
          "shell.execute_reply.started": "2024-09-17T06:23:54.655380Z",
          "shell.execute_reply": "2024-09-17T06:23:55.735664Z"
        },
        "editable": false,
        "trusted": true,
        "colab": {
          "base_uri": "https://localhost:8080/"
        },
        "id": "Atgn9uaCIrcP",
        "outputId": "4e544a57-9e7b-417e-e6dd-f86094d86f22"
      },
      "execution_count": 19,
      "outputs": [
        {
          "output_type": "stream",
          "name": "stdout",
          "text": [
            "ElasticNet model fitted\n"
          ]
        },
        {
          "output_type": "stream",
          "name": "stderr",
          "text": [
            "/usr/local/lib/python3.10/dist-packages/sklearn/linear_model/_coordinate_descent.py:628: ConvergenceWarning: Objective did not converge. You might want to increase the number of iterations, check the scale of the features or consider increasing regularisation. Duality gap: 4.699e+02, tolerance: 8.545e-01\n",
            "  model = cd_fast.enet_coordinate_descent(\n"
          ]
        }
      ]
    },
    {
      "cell_type": "markdown",
      "source": [
        "Step11 :  Identifying the top 50 most important features based on their absolute values"
      ],
      "metadata": {
        "editable": false,
        "id": "x1CrPrw7IrcP"
      }
    },
    {
      "cell_type": "code",
      "source": [
        "coef_abs = np.abs(elastic_net.coef_)\n",
        "sorted_coef_abs = np.argsort(coef_abs)[::-1]\n",
        "top_50_features = sorted_coef_abs[:50]\n",
        "print('50 most important features are selected')"
      ],
      "metadata": {
        "execution": {
          "iopub.status.busy": "2024-09-17T06:23:58.668112Z",
          "iopub.execute_input": "2024-09-17T06:23:58.668572Z",
          "iopub.status.idle": "2024-09-17T06:23:58.679277Z",
          "shell.execute_reply.started": "2024-09-17T06:23:58.668528Z",
          "shell.execute_reply": "2024-09-17T06:23:58.676960Z"
        },
        "editable": false,
        "trusted": true,
        "colab": {
          "base_uri": "https://localhost:8080/"
        },
        "id": "6GvQcomsIrcP",
        "outputId": "209b93e0-9766-412b-ca58-c9eec36381f6"
      },
      "execution_count": 20,
      "outputs": [
        {
          "output_type": "stream",
          "name": "stdout",
          "text": [
            "50 most important features are selected\n"
          ]
        }
      ]
    },
    {
      "cell_type": "code",
      "source": [
        "# Assuming X is a DataFrame or you have a list of feature names\n",
        "feature_names = X.columns if hasattr(X, 'columns') else [f'Feature {i}' for i in range(X.shape[1])]\n",
        "\n",
        "# Get the absolute values of the coefficients\n",
        "coef_abs = np.abs(elastic_net.coef_)\n",
        "\n",
        "# Sort the coefficients in descending order based on their importance\n",
        "sorted_coef_abs = np.argsort(coef_abs)[::-1]\n",
        "\n",
        "# Select the top 50 most important features\n",
        "top_50_features = sorted_coef_abs[:50]\n",
        "\n",
        "# Print the feature names and their corresponding coefficient magnitudes\n",
        "print(\"Top 50 most important features are : \")\n",
        "for idx in top_50_features:\n",
        "    print(f\"{feature_names[idx]}\")\n",
        "    #: {elastic_net.coef_[idx]}"
      ],
      "metadata": {
        "execution": {
          "iopub.status.busy": "2024-09-17T06:24:07.055816Z",
          "iopub.execute_input": "2024-09-17T06:24:07.056446Z",
          "iopub.status.idle": "2024-09-17T06:24:07.070030Z",
          "shell.execute_reply.started": "2024-09-17T06:24:07.056389Z",
          "shell.execute_reply": "2024-09-17T06:24:07.067785Z"
        },
        "editable": false,
        "trusted": true,
        "colab": {
          "base_uri": "https://localhost:8080/"
        },
        "id": "n6fRdkiwIrcQ",
        "outputId": "36da551a-d329-46e6-d747-d7952cc18fbf"
      },
      "execution_count": 21,
      "outputs": [
        {
          "output_type": "stream",
          "name": "stdout",
          "text": [
            "Top 50 most important features are : \n",
            "main.disorder\n",
            "AB.F.gamma.c.F7\n",
            "COH.A.delta.l.T4.s.O2\n",
            "AB.D.beta.c.F7\n",
            "COH.A.delta.k.C4.s.O2\n",
            "COH.D.beta.i.C3.q.T6\n",
            "COH.B.theta.l.T4.r.O1\n",
            "COH.A.delta.e.Fz.q.T6\n",
            "COH.C.alpha.i.C3.p.P4\n",
            "COH.E.highbeta.a.FP1.f.F4\n",
            "COH.F.gamma.g.F8.n.P3\n",
            "COH.F.gamma.g.F8.p.P4\n",
            "AB.F.gamma.q.T6\n",
            "COH.E.highbeta.b.FP2.h.T3\n",
            "AB.E.highbeta.e.Fz\n",
            "AB.D.beta.f.F4\n",
            "COH.D.beta.e.Fz.g.F8\n",
            "AB.A.delta.f.F4\n",
            "COH.A.delta.k.C4.q.T6\n",
            "COH.A.delta.i.C3.m.T5\n",
            "COH.A.delta.b.FP2.n.P3\n",
            "COH.B.theta.a.FP1.j.Cz\n",
            "COH.F.gamma.l.T4.s.O2\n",
            "COH.E.highbeta.g.F8.h.T3\n",
            "AB.A.delta.r.O1\n",
            "COH.F.gamma.a.FP1.p.P4\n",
            "COH.E.highbeta.n.P3.r.O1\n",
            "COH.D.beta.a.FP1.s.O2\n",
            "COH.B.theta.b.FP2.g.F8\n",
            "COH.B.theta.c.F7.j.Cz\n",
            "AB.B.theta.o.Pz\n",
            "COH.C.alpha.a.FP1.k.C4\n",
            "COH.F.gamma.a.FP1.i.C3\n",
            "COH.F.gamma.f.F4.j.Cz\n",
            "COH.C.alpha.j.Cz.m.T5\n",
            "COH.E.highbeta.m.T5.p.P4\n",
            "COH.E.highbeta.k.C4.p.P4\n",
            "AB.B.theta.g.F8\n",
            "COH.D.beta.g.F8.i.C3\n",
            "COH.E.highbeta.k.C4.s.O2\n",
            "COH.B.theta.g.F8.l.T4\n",
            "COH.A.delta.l.T4.q.T6\n",
            "COH.B.theta.l.T4.s.O2\n",
            "COH.C.alpha.d.F3.m.T5\n",
            "COH.F.gamma.f.F4.l.T4\n",
            "AB.F.gamma.m.T5\n",
            "COH.A.delta.b.FP2.q.T6\n",
            "COH.A.delta.j.Cz.s.O2\n",
            "COH.A.delta.g.F8.i.C3\n",
            "COH.D.beta.g.F8.q.T6\n"
          ]
        }
      ]
    },
    {
      "cell_type": "markdown",
      "source": [
        "#Step 12 : Generation of most important features list"
      ],
      "metadata": {
        "editable": false,
        "id": "Nv6xXIoUIrcQ"
      }
    },
    {
      "cell_type": "code",
      "source": [
        "top_50_feature_names = [X.columns[i] for i in top_50_features]\n",
        "print('Most important features list has been created')"
      ],
      "metadata": {
        "execution": {
          "iopub.status.busy": "2024-09-17T06:24:14.770713Z",
          "iopub.execute_input": "2024-09-17T06:24:14.771210Z",
          "iopub.status.idle": "2024-09-17T06:24:14.779112Z",
          "shell.execute_reply.started": "2024-09-17T06:24:14.771161Z",
          "shell.execute_reply": "2024-09-17T06:24:14.777639Z"
        },
        "editable": false,
        "trusted": true,
        "colab": {
          "base_uri": "https://localhost:8080/"
        },
        "id": "-_d6ehf5IrcQ",
        "outputId": "02491a41-44bc-4bf6-bc4d-fe4ef34d7259"
      },
      "execution_count": 22,
      "outputs": [
        {
          "output_type": "stream",
          "name": "stdout",
          "text": [
            "Most important features list has been created\n"
          ]
        }
      ]
    },
    {
      "cell_type": "markdown",
      "source": [
        "#Step 13 : Count of target column values"
      ],
      "metadata": {
        "editable": false,
        "id": "WP4uwcB2IrcQ"
      }
    },
    {
      "cell_type": "code",
      "source": [
        "sns.countplot(x=\"specific.disorder\",data=data)"
      ],
      "metadata": {
        "execution": {
          "iopub.status.busy": "2024-09-17T06:24:18.871337Z",
          "iopub.execute_input": "2024-09-17T06:24:18.871816Z",
          "iopub.status.idle": "2024-09-17T06:24:19.154279Z",
          "shell.execute_reply.started": "2024-09-17T06:24:18.871770Z",
          "shell.execute_reply": "2024-09-17T06:24:19.152738Z"
        },
        "editable": false,
        "trusted": true,
        "colab": {
          "base_uri": "https://localhost:8080/",
          "height": 466
        },
        "id": "n8PGGtjqIrcQ",
        "outputId": "56734f87-81c4-4dbf-9ad1-1f532ab87e08"
      },
      "execution_count": 23,
      "outputs": [
        {
          "output_type": "execute_result",
          "data": {
            "text/plain": [
              "<Axes: xlabel='specific.disorder', ylabel='count'>"
            ]
          },
          "metadata": {},
          "execution_count": 23
        },
        {
          "output_type": "display_data",
          "data": {
            "text/plain": [
              "<Figure size 640x480 with 1 Axes>"
            ],
            "image/png": "[encoded data removed]"
          },
          "metadata": {}
        }
      ]
    },
    {
      "cell_type": "markdown",
      "source": [
        "#Step 14 : Creating the Dataframe of top 50 features"
      ],
      "metadata": {
        "editable": false,
        "id": "1ukfgq-NIrcQ"
      }
    },
    {
      "cell_type": "code",
      "source": [
        "df1=[]\n",
        "for j in list(top_50_feature_names):\n",
        "   df1.append(data[j])\n",
        "df1 = pd.concat(df1, axis = 1)\n",
        "print('Dataframe of top 50 features has been created...')"
      ],
      "metadata": {
        "execution": {
          "iopub.status.busy": "2024-09-17T06:24:39.952496Z",
          "iopub.execute_input": "2024-09-17T06:24:39.952996Z",
          "iopub.status.idle": "2024-09-17T06:24:39.968997Z",
          "shell.execute_reply.started": "2024-09-17T06:24:39.952953Z",
          "shell.execute_reply": "2024-09-17T06:24:39.967494Z"
        },
        "editable": false,
        "trusted": true,
        "colab": {
          "base_uri": "https://localhost:8080/"
        },
        "id": "nYbuquMCIrcQ",
        "outputId": "fbbfcc92-046f-4309-ebef-033129f280a4"
      },
      "execution_count": 24,
      "outputs": [
        {
          "output_type": "stream",
          "name": "stdout",
          "text": [
            "Dataframe of top 50 features has been created...\n"
          ]
        }
      ]
    },
    {
      "cell_type": "markdown",
      "source": [
        "Step 15 : Data OverSampling"
      ],
      "metadata": {
        "editable": false,
        "id": "KFcY3Q_RIrcR"
      }
    },
    {
      "cell_type": "code",
      "source": [
        "# Ensure that df1 and y have the same number of rows before applying SMOTE\n",
        "df1 = df1.iloc[:len(y)]\n",
        "\n",
        "smote = SMOTE(sampling_strategy ='all', random_state = 42)\n",
        "X_resampled, y_resampled = smote.fit_resample(df1, y)\n",
        "print('Data OverSampling completed...')"
      ],
      "metadata": {
        "execution": {
          "iopub.status.busy": "2024-09-17T06:27:35.972593Z",
          "iopub.execute_input": "2024-09-17T06:27:35.973049Z",
          "iopub.status.idle": "2024-09-17T06:27:36.034796Z",
          "shell.execute_reply.started": "2024-09-17T06:27:35.973005Z",
          "shell.execute_reply": "2024-09-17T06:27:36.033452Z"
        },
        "editable": false,
        "trusted": true,
        "colab": {
          "base_uri": "https://localhost:8080/"
        },
        "id": "M72Zw2Z7IrcR",
        "outputId": "a111da70-9fc4-4d16-b862-e538384c5404"
      },
      "execution_count": 27,
      "outputs": [
        {
          "output_type": "stream",
          "name": "stdout",
          "text": [
            "Data OverSampling completed...\n"
          ]
        }
      ]
    },
    {
      "cell_type": "markdown",
      "source": [
        "#Step 16 : Oversampled visualization"
      ],
      "metadata": {
        "editable": false,
        "id": "1m4ERPRxIrcR"
      }
    },
    {
      "cell_type": "code",
      "source": [
        "# Count the occurrences of each class in the resampled target\n",
        "class_counts = pd.Series(y_resampled).value_counts()\n",
        "\n",
        "# Create a bar plot\n",
        "plt.figure(figsize=(8, 6))\n",
        "sns.barplot(x=class_counts.index, y=class_counts.values, palette=\"viridis\")\n",
        "\n",
        "# Add labels and title\n",
        "plt.xlabel('Class Labels')\n",
        "plt.ylabel('Number of Samples')\n",
        "plt.title('Class Distribution After SMOTE Resampling')\n",
        "plt.show()\n"
      ],
      "metadata": {
        "execution": {
          "iopub.status.busy": "2024-09-17T06:24:46.636016Z",
          "iopub.execute_input": "2024-09-17T06:24:46.636491Z",
          "iopub.status.idle": "2024-09-17T06:24:46.903801Z",
          "shell.execute_reply.started": "2024-09-17T06:24:46.636449Z",
          "shell.execute_reply": "2024-09-17T06:24:46.902307Z"
        },
        "editable": false,
        "trusted": true,
        "colab": {
          "base_uri": "https://localhost:8080/",
          "height": 671
        },
        "id": "84I9XEPlIrcR",
        "outputId": "5c3657d1-4512-4036-c7f6-6d315b908752"
      },
      "execution_count": 28,
      "outputs": [
        {
          "output_type": "stream",
          "name": "stderr",
          "text": [
            "<ipython-input-28-60a52a4b5416>:6: FutureWarning: \n",
            "\n",
            "Passing `palette` without assigning `hue` is deprecated and will be removed in v0.14.0. Assign the `x` variable to `hue` and set `legend=False` for the same effect.\n",
            "\n",
            "  sns.barplot(x=class_counts.index, y=class_counts.values, palette=\"viridis\")\n"
          ]
        },
        {
          "output_type": "display_data",
          "data": {
            "text/plain": [
              "<Figure size 800x600 with 1 Axes>"
            ],
            "image/png": "[encoded data removed]"
          },
          "metadata": {}
        }
      ]
    },
    {
      "cell_type": "markdown",
      "source": [
        "#Step 17 : Normalize or Standardize the features"
      ],
      "metadata": {
        "editable": false,
        "id": "Gx3u5oxWIrcR"
      }
    },
    {
      "cell_type": "code",
      "source": [
        "#Initialize the Standardization\n",
        "scaler = StandardScaler()\n",
        "scaler.fit(X_resampled)\n",
        "# y = y.reshape(-1,1)\n",
        "df3= scaler.transform(X_resampled)\n",
        "# y= scaler.transform(y)\n",
        "print('Data has been normalized...')"
      ],
      "metadata": {
        "execution": {
          "iopub.status.busy": "2024-09-17T06:24:51.552107Z",
          "iopub.execute_input": "2024-09-17T06:24:51.552680Z",
          "iopub.status.idle": "2024-09-17T06:24:51.573898Z",
          "shell.execute_reply.started": "2024-09-17T06:24:51.552637Z",
          "shell.execute_reply": "2024-09-17T06:24:51.572278Z"
        },
        "editable": false,
        "trusted": true,
        "colab": {
          "base_uri": "https://localhost:8080/"
        },
        "id": "5qzr81iHIrcR",
        "outputId": "6faf0bfd-4d27-4e6d-fa23-9e065cb364a6"
      },
      "execution_count": 29,
      "outputs": [
        {
          "output_type": "stream",
          "name": "stdout",
          "text": [
            "Data has been normalized...\n"
          ]
        }
      ]
    },
    {
      "cell_type": "markdown",
      "source": [
        "#Step 18 : Train test Split"
      ],
      "metadata": {
        "editable": false,
        "id": "FwhgJnRRIrcR"
      }
    },
    {
      "cell_type": "code",
      "source": [
        "X_train, X_test, y_train, y_test = train_test_split(df3, y_resampled , test_size =.2, stratify = y_resampled)\n",
        "print('Train test split completed...')"
      ],
      "metadata": {
        "execution": {
          "iopub.status.busy": "2024-09-17T06:24:54.788430Z",
          "iopub.execute_input": "2024-09-17T06:24:54.789974Z",
          "iopub.status.idle": "2024-09-17T06:24:54.805055Z",
          "shell.execute_reply.started": "2024-09-17T06:24:54.789902Z",
          "shell.execute_reply": "2024-09-17T06:24:54.803342Z"
        },
        "editable": false,
        "trusted": true,
        "colab": {
          "base_uri": "https://localhost:8080/"
        },
        "id": "BS8dqOFuIrcZ",
        "outputId": "4854119d-3003-41f0-c852-4e31bc1315d8"
      },
      "execution_count": 30,
      "outputs": [
        {
          "output_type": "stream",
          "name": "stdout",
          "text": [
            "Train test split completed...\n"
          ]
        }
      ]
    },
    {
      "cell_type": "code",
      "source": [
        "df3"
      ],
      "metadata": {
        "execution": {
          "iopub.status.busy": "2024-09-17T06:24:58.528019Z",
          "iopub.execute_input": "2024-09-17T06:24:58.529215Z",
          "iopub.status.idle": "2024-09-17T06:24:58.537776Z",
          "shell.execute_reply.started": "2024-09-17T06:24:58.529163Z",
          "shell.execute_reply": "2024-09-17T06:24:58.536547Z"
        },
        "editable": false,
        "trusted": true,
        "colab": {
          "base_uri": "https://localhost:8080/"
        },
        "id": "yN-Yh3KmIrcZ",
        "outputId": "bf387bb0-52b6-45bb-d3cf-9392ebda9c10"
      },
      "execution_count": 31,
      "outputs": [
        {
          "output_type": "execute_result",
          "data": {
            "text/plain": [
              "array([[-1.50199241, -0.38691085, -1.30718319, ..., -1.27183582,\n",
              "        -1.09190818, -1.18723608],\n",
              "       [-1.50199241, -0.58183401, -1.00516537, ..., -1.10747914,\n",
              "        -0.22385619, -1.31928759],\n",
              "       [-1.50199241, -0.58804899, -0.66702753, ..., -0.4048955 ,\n",
              "        -0.77309486, -0.6410532 ],\n",
              "       ...,\n",
              "       [ 1.54766221, -0.30096791, -1.04134984, ..., -0.98506002,\n",
              "        -0.70211205, -1.22909676],\n",
              "       [-1.29759317, -0.09320451,  1.05272657, ...,  1.17114523,\n",
              "         1.1319299 , -0.21795619],\n",
              "       [ 0.05791919, -0.00172522, -0.84531149, ..., -1.25713479,\n",
              "        -0.56479126, -0.30812497]])"
            ]
          },
          "metadata": {},
          "execution_count": 31
        }
      ]
    },
    {
      "cell_type": "code",
      "source": [
        "y_resampled"
      ],
      "metadata": {
        "execution": {
          "iopub.status.busy": "2024-09-17T06:25:02.292419Z",
          "iopub.execute_input": "2024-09-17T06:25:02.292910Z",
          "iopub.status.idle": "2024-09-17T06:25:02.306205Z",
          "shell.execute_reply.started": "2024-09-17T06:25:02.292866Z",
          "shell.execute_reply": "2024-09-17T06:25:02.304343Z"
        },
        "editable": false,
        "trusted": true,
        "colab": {
          "base_uri": "https://localhost:8080/",
          "height": 458
        },
        "id": "teVX6yZLIrca",
        "outputId": "9e1a0d5b-cc2e-41fb-819b-c2cf9331c428"
      },
      "execution_count": 32,
      "outputs": [
        {
          "output_type": "execute_result",
          "data": {
            "text/plain": [
              "0        2.0\n",
              "1        2.0\n",
              "2        2.0\n",
              "3        2.0\n",
              "4        2.0\n",
              "        ... \n",
              "2347    11.0\n",
              "2348    11.0\n",
              "2349    11.0\n",
              "2350    11.0\n",
              "2351    11.0\n",
              "Name: specific.disorder, Length: 2352, dtype: float64"
            ],
            "text/html": [
              "<div>\n",
              "<style scoped>\n",
              "    .dataframe tbody tr th:only-of-type {\n",
              "        vertical-align: middle;\n",
              "    }\n",
              "\n",
              "    .dataframe tbody tr th {\n",
              "        vertical-align: top;\n",
              "    }\n",
              "\n",
              "    .dataframe thead th {\n",
              "        text-align: right;\n",
              "    }\n",
              "</style>\n",
              "<table border=\"1\" class=\"dataframe\">\n",
              "  <thead>\n",
              "    <tr style=\"text-align: right;\">\n",
              "      <th></th>\n",
              "      <th>specific.disorder</th>\n",
              "    </tr>\n",
              "  </thead>\n",
              "  <tbody>\n",
              "    <tr>\n",
              "      <th>0</th>\n",
              "      <td>2.0</td>\n",
              "    </tr>\n",
              "    <tr>\n",
              "      <th>1</th>\n",
              "      <td>2.0</td>\n",
              "    </tr>\n",
              "    <tr>\n",
              "      <th>2</th>\n",
              "      <td>2.0</td>\n",
              "    </tr>\n",
              "    <tr>\n",
              "      <th>3</th>\n",
              "      <td>2.0</td>\n",
              "    </tr>\n",
              "    <tr>\n",
              "      <th>4</th>\n",
              "      <td>2.0</td>\n",
              "    </tr>\n",
              "    <tr>\n",
              "      <th>...</th>\n",
              "      <td>...</td>\n",
              "    </tr>\n",
              "    <tr>\n",
              "      <th>2347</th>\n",
              "      <td>11.0</td>\n",
              "    </tr>\n",
              "    <tr>\n",
              "      <th>2348</th>\n",
              "      <td>11.0</td>\n",
              "    </tr>\n",
              "    <tr>\n",
              "      <th>2349</th>\n",
              "      <td>11.0</td>\n",
              "    </tr>\n",
              "    <tr>\n",
              "      <th>2350</th>\n",
              "      <td>11.0</td>\n",
              "    </tr>\n",
              "    <tr>\n",
              "      <th>2351</th>\n",
              "      <td>11.0</td>\n",
              "    </tr>\n",
              "  </tbody>\n",
              "</table>\n",
              "<p>2352 rows × 1 columns</p>\n",
              "</div><br><label><b>dtype:</b> float64</label>"
            ]
          },
          "metadata": {},
          "execution_count": 32
        }
      ]
    },
    {
      "cell_type": "markdown",
      "source": [
        "#Step 19 : Import necessary libraries"
      ],
      "metadata": {
        "editable": false,
        "id": "20m7H1vKIrca"
      }
    },
    {
      "cell_type": "code",
      "source": [
        "pip install dask[dataframe]"
      ],
      "metadata": {
        "id": "SIL87MwNLxAK"
      },
      "execution_count": null,
      "outputs": []
    },
    {
      "cell_type": "markdown",
      "source": [
        "\n",
        "\n",
        "```\n",
        "# This is formatted as code\n",
        "```\n",
        "\n",
        "#Step 20 : Fit model, calculate multiple performance metrics"
      ],
      "metadata": {
        "editable": false,
        "id": "-ToI_vgRIrca"
      }
    },
    {
      "cell_type": "code",
      "source": [
        "def my_function(model):\n",
        "    model.fit(X_train, y_train)\n",
        "    test_data_prediction = model.predict(X_test)\n",
        "    accuracy = accuracy_score(y_test, test_data_prediction)\n",
        "    precision = precision_score(test_data_prediction, y_test, average='weighted')\n",
        "    precision1 = precision_score(test_data_prediction, y_test, average='macro')\n",
        "    precision2 = precision_score(test_data_prediction, y_test, average='micro')\n",
        "    recall = recall_score(y_test, test_data_prediction, average='weighted')\n",
        "    recall1 = recall_score(y_test, test_data_prediction, average='macro')\n",
        "    recall2 = recall_score(y_test, test_data_prediction, average='micro')\n",
        "    f1_score = 2 * (precision * recall) / (precision + recall)\n",
        "    f1_score1 = 2 * (precision1 * recall1) / (precision1 + recall1)\n",
        "    f1_score2 = 2 * (precision2 * recall2) / (precision2+ recall2)\n",
        "    kf = KFold(n_splits=10, shuffle=True)\n",
        "\n",
        "\n",
        "\n",
        "    # Evaluate model using cross-validation\n",
        "    scores = cross_val_score(model, X_train, y_train, cv=kf)\n",
        "    print(scores)\n",
        "\n",
        "    # Print average score\n",
        "    print(\"Cross Validation Accuracy: %0.4f\" % scores.mean())\n",
        "    # fpr, tpr, thresholds = metrics.roc_curve(Y_test, test_data_prediction)\n",
        "    # auc = metrics.auc(fpr, tpr)\n",
        "    print('Accuracy score of the model', model , '=', round(accuracy,4))\n",
        "    print('Weighted Precision score of the model', model , '=', round(precision,4))\n",
        "    print('Macro Precision1 score of the model', model , '=', round(precision1,4))\n",
        "    print('Micro Precision2 score of the model', model , '=', round(precision2,4))\n",
        "    print('Weighted Recall score of the model', model , '=', round(recall,4))\n",
        "    print('Macro Recall1 score of the model', model , '=', round(recall1,4))\n",
        "    print('Micro Recall2 score of the model', model , '=', round(recall2,4))\n",
        "    print('Weighted F1_score score of the model', model , '=', round(f1_score,4))\n",
        "    print('Macro F1_score1 score of the model', model , '=', round(f1_score1,4))\n",
        "    print('Micro F1_score2 score of the model', model , '=', round(f1_score2,4))\n",
        "    # print('Cross validation accuracies for the', model, '=', cv_score, 'and', mean_accuracy)\n",
        "    # print('AUC score for the', model, '=', round(auc,4))\n",
        "\n",
        "\n",
        "    cr= classification_report(y_test, test_data_prediction)\n",
        "\n",
        "    print(cr)\n"
      ],
      "metadata": {
        "execution": {
          "iopub.status.busy": "2024-09-17T06:25:09.820888Z",
          "iopub.execute_input": "2024-09-17T06:25:09.821327Z",
          "iopub.status.idle": "2024-09-17T06:25:09.839935Z",
          "shell.execute_reply.started": "2024-09-17T06:25:09.821286Z",
          "shell.execute_reply": "2024-09-17T06:25:09.838159Z"
        },
        "editable": false,
        "trusted": true,
        "id": "mm_mYRSWIrca"
      },
      "execution_count": 34,
      "outputs": []
    },
    {
      "cell_type": "markdown",
      "source": [
        "def my_function(model):\n",
        "    # Fit the model\n",
        "    model.fit(X_train, y_train)\n",
        "    \n",
        "    # Predict on the test set\n",
        "    test_data_prediction = model.predict(X_test)\n",
        "    \n",
        "    # Calculate metrics\n",
        "    accuracy = accuracy_score(y_test, test_data_prediction)\n",
        "    precision = precision_score(y_test, test_data_prediction, average='weighted')\n",
        "    precision1 = precision_score(y_test, test_data_prediction, average='macro')\n",
        "    precision2 = precision_score(y_test, test_data_prediction, average='micro')\n",
        "    recall = recall_score(y_test, test_data_prediction, average='weighted')\n",
        "    recall1 = recall_score(y_test, test_data_prediction, average='macro')\n",
        "    recall2 = recall_score(y_test, test_data_prediction, average='micro')\n",
        "    f1_score = 2 * (precision * recall) / (precision + recall)\n",
        "    f1_score1 = 2 * (precision1 * recall1) / (precision1 + recall1)\n",
        "    f1_score2 = 2 * (precision2 * recall2) / (precision2 + recall2)\n",
        "    \n",
        "    # Confusion matrix\n",
        "    conf_matrix = confusion_matrix(y_test, test_data_prediction)\n",
        "    \n",
        "    # ROC Curve and AUC\n",
        "    if hasattr(model, \"predict_proba\"):\n",
        "        y_prob = model.predict_proba(X_test)[:, 1]\n",
        "        fpr, tpr, thresholds = roc_curve(y_test, y_prob)\n",
        "        auc_score = auc(fpr, tpr)\n",
        "    else:\n",
        "        fpr, tpr, thresholds = None, None, None\n",
        "        auc_score = None\n",
        "    \n",
        "    # Cross-validation\n",
        "    kf = KFold(n_splits=10, shuffle=True)\n",
        "    scores = cross_val_score(model, X_train, y_train, cv=kf)\n",
        "    \n",
        "    # Print results\n",
        "    print(f\"Cross Validation Accuracy: {scores.mean():.4f}\")\n",
        "    print(f\"Accuracy score of the model {model}: {accuracy:.4f}\")\n",
        "    print(f\"Weighted Precision score of the model {model}: {precision:.4f}\")\n",
        "    print(f\"Macro Precision score of the model {model}: {precision1:.4f}\")\n",
        "    print(f\"Micro Precision score of the model {model}: {precision2:.4f}\")\n",
        "    print(f\"Weighted Recall score of the model {model}: {recall:.4f}\")\n",
        "    print(f\"Macro Recall score of the model {model}: {recall1:.4f}\")\n",
        "    print(f\"Micro Recall score of the model {model}: {recall2:.4f}\")\n",
        "    print(f\"Weighted F1 score of the model {model}: {f1_score:.4f}\")\n",
        "    print(f\"Macro F1 score of the model {model}: {f1_score1:.4f}\")\n",
        "    print(f\"Micro F1 score of the model {model}: {f1_score2:.4f}\")\n",
        "    \n",
        "    print(\"Confusion Matrix:\")\n",
        "    print(conf_matrix)\n",
        "    \n",
        "    if auc_score is not None:\n",
        "        print(f\"AUC score of the model {model}: {auc_score:.4f}\")\n",
        "        plt.figure()\n",
        "        plt.plot(fpr, tpr, marker='.')\n",
        "        plt.xlabel('False Positive Rate')\n",
        "        plt.ylabel('True Positive Rate')\n",
        "        plt.title(f'ROC Curve for model {model}')\n",
        "        plt.show()\n",
        "    else:\n",
        "        print(\"Model does not support probability predictions. AUC cannot be computed.\")\n",
        "    \n",
        "    cr = classification_report(y_test, test_data_prediction)\n",
        "    print(\"Classification Report:\")\n",
        "    print(cr)\n"
      ],
      "metadata": {
        "id": "wiTwO_1PT96U"
      }
    },
    {
      "cell_type": "markdown",
      "source": [
        "#Step 21 : Model 01"
      ],
      "metadata": {
        "editable": false,
        "id": "P3oC7OgnIrca"
      }
    },
    {
      "cell_type": "code",
      "source": [
        "lgbm_model = LGBMClassifier(verbose=-1)  # Suppress LightGBM logs\n",
        "my_function(lgbm_model)"
      ],
      "metadata": {
        "execution": {
          "iopub.status.busy": "2024-09-17T06:25:15.016007Z",
          "iopub.execute_input": "2024-09-17T06:25:15.016903Z",
          "iopub.status.idle": "2024-09-17T06:27:03.722128Z",
          "shell.execute_reply.started": "2024-09-17T06:25:15.016821Z",
          "shell.execute_reply": "2024-09-17T06:27:03.720455Z"
        },
        "editable": false,
        "trusted": true,
        "id": "oKltGr_RIrca"
      },
      "execution_count": null,
      "outputs": []
    },
    {
      "cell_type": "markdown",
      "source": [
        "Step 22 : Model 02"
      ],
      "metadata": {
        "editable": false,
        "id": "bkzFhQLiIrca"
      }
    },
    {
      "cell_type": "code",
      "source": [
        "my_function(GradientBoostingClassifier())"
      ],
      "metadata": {
        "execution": {
          "iopub.status.busy": "2024-09-17T05:36:44.591095Z",
          "iopub.execute_input": "2024-09-17T05:36:44.591602Z",
          "iopub.status.idle": "2024-09-17T05:42:50.727597Z",
          "shell.execute_reply.started": "2024-09-17T05:36:44.591547Z",
          "shell.execute_reply": "2024-09-17T05:42:50.725990Z"
        },
        "editable": false,
        "trusted": true,
        "id": "nwe2sjO_Irca"
      },
      "execution_count": null,
      "outputs": []
    },
    {
      "cell_type": "markdown",
      "source": [
        "#Step 23 : Model 03"
      ],
      "metadata": {
        "editable": false,
        "id": "sMqDRRRTIrca"
      }
    },
    {
      "cell_type": "code",
      "source": [
        "my_function(XGBClassifier())"
      ],
      "metadata": {
        "execution": {
          "iopub.status.busy": "2024-09-17T05:34:18.270578Z",
          "iopub.execute_input": "2024-09-17T05:34:18.271043Z",
          "iopub.status.idle": "2024-09-17T05:35:43.523667Z",
          "shell.execute_reply.started": "2024-09-17T05:34:18.271002Z",
          "shell.execute_reply": "2024-09-17T05:35:43.521924Z"
        },
        "editable": false,
        "trusted": true,
        "id": "y_216cNZIrca"
      },
      "execution_count": null,
      "outputs": []
    },
    {
      "cell_type": "code",
      "source": [
        "my_function(AdaBoostClassifier())"
      ],
      "metadata": {
        "execution": {
          "iopub.status.busy": "2024-09-17T07:29:37.631828Z",
          "iopub.execute_input": "2024-09-17T07:29:37.633122Z",
          "iopub.status.idle": "2024-09-17T07:29:46.385701Z",
          "shell.execute_reply.started": "2024-09-17T07:29:37.633067Z",
          "shell.execute_reply": "2024-09-17T07:29:46.384221Z"
        },
        "editable": false,
        "trusted": true,
        "id": "__jr5OV-Ircb"
      },
      "execution_count": null,
      "outputs": []
    },
    {
      "cell_type": "code",
      "source": [
        "from sklearn.linear_model import LogisticRegression\n",
        "\n",
        "# Apply function to Logistic Regression\n",
        "logistic_model = LogisticRegression()\n",
        "my_function(logistic_model)"
      ],
      "metadata": {
        "colab": {
          "base_uri": "https://localhost:8080/"
        },
        "id": "yaukmMVv35MO",
        "outputId": "dfb143ab-9165-43e4-e8f1-87536a913e35"
      },
      "execution_count": 37,
      "outputs": [
        {
          "output_type": "stream",
          "name": "stderr",
          "text": [
            "/usr/local/lib/python3.10/dist-packages/sklearn/linear_model/_logistic.py:460: ConvergenceWarning: lbfgs failed to converge (status=1):\n",
            "STOP: TOTAL NO. of ITERATIONS REACHED LIMIT.\n",
            "\n",
            "Increase the number of iterations (max_iter) or scale the data as shown in:\n",
            "    https://scikit-learn.org/stable/modules/preprocessing.html\n",
            "Please also refer to the documentation for alternative solver options:\n",
            "    https://scikit-learn.org/stable/modules/linear_model.html#logistic-regression\n",
            "  n_iter_i = _check_optimize_result(\n",
            "/usr/local/lib/python3.10/dist-packages/sklearn/linear_model/_logistic.py:460: ConvergenceWarning: lbfgs failed to converge (status=1):\n",
            "STOP: TOTAL NO. of ITERATIONS REACHED LIMIT.\n",
            "\n",
            "Increase the number of iterations (max_iter) or scale the data as shown in:\n",
            "    https://scikit-learn.org/stable/modules/preprocessing.html\n",
            "Please also refer to the documentation for alternative solver options:\n",
            "    https://scikit-learn.org/stable/modules/linear_model.html#logistic-regression\n",
            "  n_iter_i = _check_optimize_result(\n",
            "/usr/local/lib/python3.10/dist-packages/sklearn/linear_model/_logistic.py:460: ConvergenceWarning: lbfgs failed to converge (status=1):\n",
            "STOP: TOTAL NO. of ITERATIONS REACHED LIMIT.\n",
            "\n",
            "Increase the number of iterations (max_iter) or scale the data as shown in:\n",
            "    https://scikit-learn.org/stable/modules/preprocessing.html\n",
            "Please also refer to the documentation for alternative solver options:\n",
            "    https://scikit-learn.org/stable/modules/linear_model.html#logistic-regression\n",
            "  n_iter_i = _check_optimize_result(\n",
            "/usr/local/lib/python3.10/dist-packages/sklearn/linear_model/_logistic.py:460: ConvergenceWarning: lbfgs failed to converge (status=1):\n",
            "STOP: TOTAL NO. of ITERATIONS REACHED LIMIT.\n",
            "\n",
            "Increase the number of iterations (max_iter) or scale the data as shown in:\n",
            "    https://scikit-learn.org/stable/modules/preprocessing.html\n",
            "Please also refer to the documentation for alternative solver options:\n",
            "    https://scikit-learn.org/stable/modules/linear_model.html#logistic-regression\n",
            "  n_iter_i = _check_optimize_result(\n",
            "/usr/local/lib/python3.10/dist-packages/sklearn/linear_model/_logistic.py:460: ConvergenceWarning: lbfgs failed to converge (status=1):\n",
            "STOP: TOTAL NO. of ITERATIONS REACHED LIMIT.\n",
            "\n",
            "Increase the number of iterations (max_iter) or scale the data as shown in:\n",
            "    https://scikit-learn.org/stable/modules/preprocessing.html\n",
            "Please also refer to the documentation for alternative solver options:\n",
            "    https://scikit-learn.org/stable/modules/linear_model.html#logistic-regression\n",
            "  n_iter_i = _check_optimize_result(\n",
            "/usr/local/lib/python3.10/dist-packages/sklearn/linear_model/_logistic.py:460: ConvergenceWarning: lbfgs failed to converge (status=1):\n",
            "STOP: TOTAL NO. of ITERATIONS REACHED LIMIT.\n",
            "\n",
            "Increase the number of iterations (max_iter) or scale the data as shown in:\n",
            "    https://scikit-learn.org/stable/modules/preprocessing.html\n",
            "Please also refer to the documentation for alternative solver options:\n",
            "    https://scikit-learn.org/stable/modules/linear_model.html#logistic-regression\n",
            "  n_iter_i = _check_optimize_result(\n",
            "/usr/local/lib/python3.10/dist-packages/sklearn/linear_model/_logistic.py:460: ConvergenceWarning: lbfgs failed to converge (status=1):\n",
            "STOP: TOTAL NO. of ITERATIONS REACHED LIMIT.\n",
            "\n",
            "Increase the number of iterations (max_iter) or scale the data as shown in:\n",
            "    https://scikit-learn.org/stable/modules/preprocessing.html\n",
            "Please also refer to the documentation for alternative solver options:\n",
            "    https://scikit-learn.org/stable/modules/linear_model.html#logistic-regression\n",
            "  n_iter_i = _check_optimize_result(\n",
            "/usr/local/lib/python3.10/dist-packages/sklearn/linear_model/_logistic.py:460: ConvergenceWarning: lbfgs failed to converge (status=1):\n",
            "STOP: TOTAL NO. of ITERATIONS REACHED LIMIT.\n",
            "\n",
            "Increase the number of iterations (max_iter) or scale the data as shown in:\n",
            "    https://scikit-learn.org/stable/modules/preprocessing.html\n",
            "Please also refer to the documentation for alternative solver options:\n",
            "    https://scikit-learn.org/stable/modules/linear_model.html#logistic-regression\n",
            "  n_iter_i = _check_optimize_result(\n",
            "/usr/local/lib/python3.10/dist-packages/sklearn/linear_model/_logistic.py:460: ConvergenceWarning: lbfgs failed to converge (status=1):\n",
            "STOP: TOTAL NO. of ITERATIONS REACHED LIMIT.\n",
            "\n",
            "Increase the number of iterations (max_iter) or scale the data as shown in:\n",
            "    https://scikit-learn.org/stable/modules/preprocessing.html\n",
            "Please also refer to the documentation for alternative solver options:\n",
            "    https://scikit-learn.org/stable/modules/linear_model.html#logistic-regression\n",
            "  n_iter_i = _check_optimize_result(\n",
            "/usr/local/lib/python3.10/dist-packages/sklearn/linear_model/_logistic.py:460: ConvergenceWarning: lbfgs failed to converge (status=1):\n",
            "STOP: TOTAL NO. of ITERATIONS REACHED LIMIT.\n",
            "\n",
            "Increase the number of iterations (max_iter) or scale the data as shown in:\n",
            "    https://scikit-learn.org/stable/modules/preprocessing.html\n",
            "Please also refer to the documentation for alternative solver options:\n",
            "    https://scikit-learn.org/stable/modules/linear_model.html#logistic-regression\n",
            "  n_iter_i = _check_optimize_result(\n"
          ]
        },
        {
          "output_type": "stream",
          "name": "stdout",
          "text": [
            "[0.41269841 0.5        0.39893617 0.41489362 0.45744681 0.44148936\n",
            " 0.46276596 0.41489362 0.42021277 0.40425532]\n",
            "Cross Validation Accuracy: 0.4328\n",
            "Accuracy score of the model LogisticRegression() = 0.4055\n",
            "Weighted Precision score of the model LogisticRegression() = 0.4514\n",
            "Macro Precision1 score of the model LogisticRegression() = 0.4052\n",
            "Micro Precision2 score of the model LogisticRegression() = 0.4055\n",
            "Weighted Recall score of the model LogisticRegression() = 0.4055\n",
            "Macro Recall1 score of the model LogisticRegression() = 0.4052\n",
            "Micro Recall2 score of the model LogisticRegression() = 0.4055\n",
            "Weighted F1_score score of the model LogisticRegression() = 0.4272\n",
            "Macro F1_score1 score of the model LogisticRegression() = 0.4052\n",
            "Micro F1_score2 score of the model LogisticRegression() = 0.4055\n",
            "              precision    recall  f1-score   support\n",
            "\n",
            "         0.0       0.62      0.79      0.70        39\n",
            "         1.0       0.38      0.46      0.42        39\n",
            "         2.0       0.35      0.38      0.37        39\n",
            "         3.0       0.41      0.55      0.47        40\n",
            "         4.0       0.38      0.38      0.38        39\n",
            "         5.0       0.09      0.03      0.04        39\n",
            "         6.0       0.46      0.49      0.48        39\n",
            "         7.0       0.40      0.42      0.41        40\n",
            "         8.0       0.37      0.40      0.39        40\n",
            "         9.0       0.37      0.33      0.35        39\n",
            "        10.0       0.40      0.21      0.27        39\n",
            "        11.0       0.36      0.41      0.38        39\n",
            "\n",
            "    accuracy                           0.41       471\n",
            "   macro avg       0.38      0.41      0.39       471\n",
            "weighted avg       0.38      0.41      0.39       471\n",
            "\n"
          ]
        },
        {
          "output_type": "stream",
          "name": "stderr",
          "text": [
            "/usr/local/lib/python3.10/dist-packages/sklearn/linear_model/_logistic.py:460: ConvergenceWarning: lbfgs failed to converge (status=1):\n",
            "STOP: TOTAL NO. of ITERATIONS REACHED LIMIT.\n",
            "\n",
            "Increase the number of iterations (max_iter) or scale the data as shown in:\n",
            "    https://scikit-learn.org/stable/modules/preprocessing.html\n",
            "Please also refer to the documentation for alternative solver options:\n",
            "    https://scikit-learn.org/stable/modules/linear_model.html#logistic-regression\n",
            "  n_iter_i = _check_optimize_result(\n"
          ]
        }
      ]
    },
    {
      "cell_type": "markdown",
      "source": [
        "#Step 24 : Model Prediction"
      ],
      "metadata": {
        "editable": false,
        "id": "mKRSpnBIIrcb"
      }
    },
    {
      "cell_type": "code",
      "source": [
        "# Dictionary mapping encoded values to disorder names\n",
        "disorder_mapping = {\n",
        "    2.0: 'Alcohol use disorder',\n",
        "    0.0: 'Acute stress disorder',\n",
        "    5.0: 'Depressive disorder',\n",
        "    6.0: 'Healthy control',\n",
        "    3.0: 'Behavioral addiction disorder',\n",
        "    7.0: 'Obsessive compulsive disorder',\n",
        "    10.0: 'Schizophrenia',\n",
        "    8.0: 'Panic disorder',\n",
        "    11.0: 'Social anxiety disorder',\n",
        "    9.0: 'Posttraumatic stress disorder',\n",
        "    1.0: 'Adjustment disorder',\n",
        "    4.0: 'Bipolar disorder'\n",
        "}\n",
        "\n",
        "# Function to get the disorder name from the encoded value\n",
        "def get_disorder_name_from_prediction(encoded_value):\n",
        "    return disorder_mapping.get(encoded_value, \"Unknown disorder\")"
      ],
      "metadata": {
        "execution": {
          "iopub.status.busy": "2024-09-17T06:45:18.836110Z",
          "iopub.execute_input": "2024-09-17T06:45:18.836723Z",
          "iopub.status.idle": "2024-09-17T06:45:18.845521Z",
          "shell.execute_reply.started": "2024-09-17T06:45:18.836679Z",
          "shell.execute_reply": "2024-09-17T06:45:18.843952Z"
        },
        "editable": false,
        "trusted": true,
        "id": "4w1XRA0wIrcb"
      },
      "execution_count": null,
      "outputs": []
    },
    {
      "cell_type": "code",
      "source": [
        "# Your existing model training and prediction logic\n",
        "# Initialize XGBClassifier\n",
        "xgb_model = XGBClassifier()\n",
        "\n",
        "# Call the function to train the model (Assumes `my_function` trains the model)\n",
        "my_function(xgb_model)\n",
        "\n",
        "# Assuming 'data' is your DataFrame and 'specific.disorder' is the target column\n",
        "# First, encode the target column 'specific.disorder' using LabelEncoder (if not done already)\n",
        "label_encoder = LabelEncoder()\n",
        "data['specific.disorder_encoded'] = label_encoder.fit_transform(data['specific.disorder'])\n",
        "\n",
        "# Get the actual disorder names (inverse mapping from encoded labels)\n",
        "specific_disorder_labels = label_encoder.classes_\n",
        "\n",
        "# After the model is trained, use the custom input for prediction\n",
        "custom_input = [[-1.39152822,  0.48664021, -0.84291855,  1.07377379,  0.4676795 ,\n",
        "       -0.04836744, -0.96574004, -0.76951914,  0.00777138,  1.37207286,\n",
        "        1.21769102, -1.43033018, -0.97261923,  0.49147411,  0.69148268,\n",
        "        0.15654763,  0.946097  ,  0.84995292,  0.42914624,  0.22876536,\n",
        "        1.20364894, -0.8246202 ,  0.40937834,  1.2569821 , -0.2990195 ,\n",
        "        1.25080503,  0.70043176,  0.76379308, -1.37772789, -1.03568303,\n",
        "       -0.85468038, -0.39999926,  1.50731409, -1.20788184, -0.44078488,\n",
        "       -0.70778515,  0.90302452,  0.39441742, -1.14148251,  1.97363813,\n",
        "        0.45300629,  0.19423655, -0.7761609 ,  0.77438332, -0.23152332,\n",
        "       -0.48111875, -0.63425346, -1.17420149,  0.81493528, -1.45876944]]\n",
        "\n",
        "# Predict using the trained model\n",
        "custom_prediction = xgb_model.predict(custom_input)\n",
        "\n",
        "# Convert the numerical prediction to the actual disorder name using the label encoder\n",
        "predicted_disorder_encoded = custom_prediction[0]  # Get the encoded value\n",
        "\n",
        "# Call the function to get the respective disease name\n",
        "predicted_disorder_name = get_disorder_name_from_prediction(predicted_disorder_encoded)\n",
        "\n",
        "# Print the predicted disorder name (actual name)\n",
        "print(\"Predicted disorder name:\", predicted_disorder_name)\n"
      ],
      "metadata": {
        "execution": {
          "iopub.status.busy": "2024-09-17T07:34:13.934419Z",
          "iopub.execute_input": "2024-09-17T07:34:13.934919Z",
          "iopub.status.idle": "2024-09-17T07:35:38.570157Z",
          "shell.execute_reply.started": "2024-09-17T07:34:13.934867Z",
          "shell.execute_reply": "2024-09-17T07:35:38.568694Z"
        },
        "editable": false,
        "trusted": true,
        "id": "HVLLKFSOIrcb"
      },
      "execution_count": null,
      "outputs": []
    },
    {
      "cell_type": "code",
      "source": [
        "# Example usage with AdaBoostClassifier\n",
        "ada_model = AdaBoostClassifier()\n",
        "\n",
        "# Call the function\n",
        "my_function(ada_model)\n",
        "\n",
        "# Assuming 'data' is your DataFrame and 'specific.disorder' is the target column\n",
        "# First, encode the target column 'specific.disorder' using LabelEncoder (if not done already)\n",
        "label_encoder = LabelEncoder()\n",
        "data['specific.disorder_encoded'] = label_encoder.fit_transform(data['specific.disorder'])\n",
        "\n",
        "# Get the actual disorder names (inverse mapping from encoded labels)\n",
        "specific_disorder_labels = label_encoder.classes_\n",
        "\n",
        "# After the model is trained, use the custom input for prediction\n",
        "custom_input = [[-1.39152822,  0.48664021, -0.84291855,  1.07377379,  0.4676795 ,\n",
        "       -0.04836744, -0.96574004, -0.76951914,  0.00777138,  1.37207286,\n",
        "        1.21769102, -1.43033018, -0.97261923,  0.49147411,  0.69148268,\n",
        "        0.15654763,  0.946097  ,  0.84995292,  0.42914624,  0.22876536,\n",
        "        1.20364894, -0.8246202 ,  0.40937834,  1.2569821 , -0.2990195 ,\n",
        "        1.25080503,  0.70043176,  0.76379308, -1.37772789, -1.03568303,\n",
        "       -0.85468038, -0.39999926,  1.50731409, -1.20788184, -0.44078488,\n",
        "       -0.70778515,  0.90302452,  0.39441742, -1.14148251,  1.97363813,\n",
        "        0.45300629,  0.19423655, -0.7761609 ,  0.77438332, -0.23152332,\n",
        "       -0.48111875, -0.63425346, -1.17420149,  0.81493528, -1.45876944]]\n",
        "\n",
        "custom_prediction = ada_model.predict(custom_input)\n",
        "\n",
        "# Predict using the trained model\n",
        "custom_prediction = xgb_model.predict(custom_input)\n",
        "\n",
        "# Convert the numerical prediction to the actual disorder name using the label encoder\n",
        "predicted_disorder_encoded = custom_prediction[0]  # Get the encoded value\n",
        "\n",
        "# Call the function to get the respective disease name\n",
        "predicted_disorder_name = get_disorder_name_from_prediction(predicted_disorder_encoded)\n",
        "\n",
        "# Print the predicted disorder name (actual name)\n",
        "print(\"Predicted disorder name:\", predicted_disorder_name)\n"
      ],
      "metadata": {
        "execution": {
          "iopub.status.busy": "2024-09-17T07:36:13.482602Z",
          "iopub.execute_input": "2024-09-17T07:36:13.483557Z",
          "iopub.status.idle": "2024-09-17T07:36:22.193682Z",
          "shell.execute_reply.started": "2024-09-17T07:36:13.483493Z",
          "shell.execute_reply": "2024-09-17T07:36:22.192156Z"
        },
        "editable": false,
        "trusted": true,
        "id": "KAq-5gA6Ircb"
      },
      "execution_count": null,
      "outputs": []
    },
    {
      "cell_type": "code",
      "source": [
        "# Example usage with GradientBoostingClassifier\n",
        "gbc_model = GradientBoostingClassifier()\n",
        "\n",
        "# Call the function\n",
        "my_function(gbc_model)\n",
        "\n",
        "# Assuming 'data' is your DataFrame and 'specific.disorder' is the target column\n",
        "# First, encode the target column 'specific.disorder' using LabelEncoder (if not done already)\n",
        "label_encoder = LabelEncoder()\n",
        "data['specific.disorder_encoded'] = label_encoder.fit_transform(data['specific.disorder'])\n",
        "\n",
        "# Get the actual disorder names (inverse mapping from encoded labels)\n",
        "specific_disorder_labels = label_encoder.classes_\n",
        "\n",
        "# After the model is trained, use the custom input for prediction\n",
        "custom_input = [[-1.39152822,  0.48664021, -0.84291855,  1.07377379,  0.4676795 ,\n",
        "       -0.04836744, -0.96574004, -0.76951914,  0.00777138,  1.37207286,\n",
        "        1.21769102, -1.43033018, -0.97261923,  0.49147411,  0.69148268,\n",
        "        0.15654763,  0.946097  ,  0.84995292,  0.42914624,  0.22876536,\n",
        "        1.20364894, -0.8246202 ,  0.40937834,  1.2569821 , -0.2990195 ,\n",
        "        1.25080503,  0.70043176,  0.76379308, -1.37772789, -1.03568303,\n",
        "       -0.85468038, -0.39999926,  1.50731409, -1.20788184, -0.44078488,\n",
        "       -0.70778515,  0.90302452,  0.39441742, -1.14148251,  1.97363813,\n",
        "        0.45300629,  0.19423655, -0.7761609 ,  0.77438332, -0.23152332,\n",
        "       -0.48111875, -0.63425346, -1.17420149,  0.81493528, -1.45876944]]\n",
        "custom_prediction = gbc_model.predict(custom_input)\n",
        "\n",
        "# Predict using the trained model\n",
        "custom_prediction = xgb_model.predict(custom_input)\n",
        "\n",
        "# Convert the numerical prediction to the actual disorder name using the label encoder\n",
        "predicted_disorder_encoded = custom_prediction[0]  # Get the encoded value\n",
        "\n",
        "# Call the function to get the respective disease name\n",
        "predicted_disorder_name = get_disorder_name_from_prediction(predicted_disorder_encoded)\n",
        "\n",
        "# Print the predicted disorder name (actual name)\n",
        "print(\"Predicted disorder name:\", predicted_disorder_name)"
      ],
      "metadata": {
        "execution": {
          "iopub.status.busy": "2024-09-17T07:41:32.950702Z",
          "iopub.execute_input": "2024-09-17T07:41:32.951661Z",
          "iopub.status.idle": "2024-09-17T07:47:38.014104Z",
          "shell.execute_reply.started": "2024-09-17T07:41:32.951591Z",
          "shell.execute_reply": "2024-09-17T07:47:38.012571Z"
        },
        "editable": false,
        "trusted": true,
        "id": "hRHEgFMRIrcb"
      },
      "execution_count": null,
      "outputs": []
    },
    {
      "cell_type": "code",
      "source": [
        "# Initialize KNeighborsClassifier with default parameters\n",
        "knn_model = KNeighborsClassifier()\n",
        "\n",
        "# Call the function to train the model (Assumes `my_function` trains the model)\n",
        "my_function(knn_model)\n",
        "\n",
        "# After the model is trained, use the custom input for prediction\n",
        "custom_input = [[-1.39152822,  0.48664021, -0.84291855,  1.07377379,  0.4676795 ,\n",
        "       -0.04836744, -0.96574004, -0.76951914,  0.00777138,  1.37207286,\n",
        "        1.21769102, -1.43033018, -0.97261923,  0.49147411,  0.69148268,\n",
        "        0.15654763,  0.946097  ,  0.84995292,  0.42914624,  0.22876536,\n",
        "        1.20364894, -0.8246202 ,  0.40937834,  1.2569821 , -0.2990195 ,\n",
        "        1.25080503,  0.70043176,  0.76379308, -1.37772789, -1.03568303,\n",
        "       -0.85468038, -0.39999926,  1.50731409, -1.20788184, -0.44078488,\n",
        "       -0.70778515,  0.90302452,  0.39441742, -1.14148251,  1.97363813,\n",
        "        0.45300629,  0.19423655, -0.7761609 ,  0.77438332, -0.23152332,\n",
        "       -0.48111875, -0.63425346, -1.17420149,  0.81493528, -1.45876944]]\n",
        "\n",
        "# Predict using the trained model\n",
        "custom_prediction = knn_model.predict(custom_input)\n",
        "\n",
        "# Get the encoded prediction and convert to actual disorder name\n",
        "predicted_disorder_encoded = custom_prediction[0]\n",
        "predicted_disorder_name = get_disorder_name_from_prediction(predicted_disorder_encoded)\n",
        "\n",
        "# Print the predicted disorder name\n",
        "print(\"Predicted disorder name (KNN):\", predicted_disorder_name)\n"
      ],
      "metadata": {
        "execution": {
          "iopub.status.busy": "2024-09-17T07:36:43.983484Z",
          "iopub.execute_input": "2024-09-17T07:36:43.984072Z",
          "iopub.status.idle": "2024-09-17T07:36:44.416138Z",
          "shell.execute_reply.started": "2024-09-17T07:36:43.984019Z",
          "shell.execute_reply": "2024-09-17T07:36:44.414722Z"
        },
        "editable": false,
        "trusted": true,
        "id": "na5v80f-Ircc"
      },
      "execution_count": null,
      "outputs": []
    },
    {
      "cell_type": "code",
      "source": [
        "# Initialize LGBMClassifier\n",
        "lgbm_model = LGBMClassifier()\n",
        "\n",
        "# Call the function to train the model\n",
        "my_function(lgbm_model)\n",
        "\n",
        "# Assuming 'data' is your DataFrame and 'specific.disorder' is the target column\n",
        "# First, encode the target column 'specific.disorder' using LabelEncoder (if not done already)\n",
        "label_encoder = LabelEncoder()\n",
        "data['specific.disorder_encoded'] = label_encoder.fit_transform(data['specific.disorder'])\n",
        "\n",
        "# Get the actual disorder names (inverse mapping from encoded labels)\n",
        "specific_disorder_labels = label_encoder.classes_\n",
        "\n",
        "# After the model is trained, use the custom input for prediction\n",
        "custom_input = [[-1.39152822,  0.48664021, -0.84291855,  1.07377379,  0.4676795 ,\n",
        "       -0.04836744, -0.96574004, -0.76951914,  0.00777138,  1.37207286,\n",
        "        1.21769102, -1.43033018, -0.97261923,  0.49147411,  0.69148268,\n",
        "        0.15654763,  0.946097  ,  0.84995292,  0.42914624,  0.22876536,\n",
        "        1.20364894, -0.8246202 ,  0.40937834,  1.2569821 , -0.2990195 ,\n",
        "        1.25080503,  0.70043176,  0.76379308, -1.37772789, -1.03568303,\n",
        "       -0.85468038, -0.39999926,  1.50731409, -1.20788184, -0.44078488,\n",
        "       -0.70778515,  0.90302452,  0.39441742, -1.14148251,  1.97363813,\n",
        "        0.45300629,  0.19423655, -0.7761609 ,  0.77438332, -0.23152332,\n",
        "       -0.48111875, -0.63425346, -1.17420149,  0.81493528, -1.45876944]]\n",
        "\n",
        "# Predict using the trained model\n",
        "custom_prediction = lgbm_model.predict(custom_input)\n",
        "\n",
        "# Convert the numerical prediction to the actual disorder name using the label encoder\n",
        "predicted_disorder_encoded = custom_prediction[0]  # Get the encoded value\n",
        "\n",
        "# Call the function to get the respective disease name\n",
        "predicted_disorder_name = get_disorder_name_from_prediction(predicted_disorder_encoded)\n",
        "\n",
        "# Print the predicted disorder name (actual name)\n",
        "print(\"Predicted disorder name:\", predicted_disorder_name)\n"
      ],
      "metadata": {
        "execution": {
          "iopub.status.busy": "2024-09-17T07:36:56.563963Z",
          "iopub.execute_input": "2024-09-17T07:36:56.565122Z",
          "iopub.status.idle": "2024-09-17T07:38:37.879842Z",
          "shell.execute_reply.started": "2024-09-17T07:36:56.565060Z",
          "shell.execute_reply": "2024-09-17T07:38:37.878176Z"
        },
        "editable": false,
        "trusted": true,
        "id": "bJaJDjzxIrcc"
      },
      "execution_count": null,
      "outputs": []
    },
    {
      "cell_type": "code",
      "source": [
        "import numpy as np\n",
        "import pandas as pd\n",
        "from sklearn.model_selection import train_test_split\n",
        "from sklearn.metrics import classification_report, accuracy_score, precision_score, recall_score\n",
        "from keras.models import Sequential\n",
        "from keras.layers import Dense, Dropout\n",
        "from keras.utils import to_categorical\n",
        "from keras.optimizers import Adam\n",
        "from sklearn.preprocessing import LabelEncoder\n",
        "\n",
        "# Load and preprocess the dataset\n",
        "data = pd.read_csv('/kaggle/input/eeg-psychiatric-disorders-dataset/EEG.machinelearing_data_BRMH.csv')\n",
        "\n",
        "# Ensure all features are numeric\n",
        "for column in data.columns:\n",
        "    if data[column].dtype == 'object':\n",
        "        data[column] = LabelEncoder().fit_transform(data[column])\n",
        "\n",
        "# Preprocessing the dataset\n",
        "X = data.drop('main.disorder', axis=1).values  # Features\n",
        "y = data['main.disorder'].values  # Target\n",
        "\n",
        "# Normalize the features\n",
        "X = X.astype('float32') / X.max()  # Normalize to [0,1]\n",
        "\n",
        "# Convert the labels to categorical (one-hot encoding)\n",
        "y = to_categorical(LabelEncoder().fit_transform(y))\n",
        "\n",
        "# Split the data into training and testing sets\n",
        "X_train, X_test, y_train, y_test = train_test_split(X, y, test_size=0.2, random_state=42)\n",
        "\n",
        "# Build the Fully Connected Neural Network (FCNN) model\n",
        "model = Sequential()\n",
        "\n",
        "# Input layer and first hidden layer\n",
        "model.add(Dense(128, input_dim=X_train.shape[1], activation='relu'))\n",
        "\n",
        "# Dropout for regularization\n",
        "model.add(Dropout(0.5))\n",
        "\n",
        "# Second hidden layer\n",
        "model.add(Dense(64, activation='relu'))\n",
        "\n",
        "# Dropout\n",
        "model.add(Dropout(0.5))\n",
        "\n",
        "# Output layer (adjust the number of units to match the number of classes)\n",
        "model.add(Dense(y_train.shape[1], activation='softmax'))\n",
        "\n",
        "# Compile the model\n",
        "model.compile(optimizer=Adam(), loss='categorical_crossentropy', metrics=['accuracy'])\n",
        "\n",
        "# Train the model\n",
        "model.fit(X_train, y_train, epochs=10, batch_size=32, validation_data=(X_test, y_test))\n",
        "\n",
        "# Evaluate the model\n",
        "test_loss, test_accuracy = model.evaluate(X_test, y_test)\n",
        "print(f'Test Accuracy: {test_accuracy:.4f}')\n",
        "\n",
        "# Predict and evaluate on test data\n",
        "y_pred = model.predict(X_test)\n",
        "y_pred_classes = np.argmax(y_pred, axis=1)\n",
        "y_test_classes = np.argmax(y_test, axis=1)\n",
        "\n",
        "# Calculate evaluation metrics\n",
        "accuracy = accuracy_score(y_test_classes, y_pred_classes)\n",
        "precision = precision_score(y_test_classes, y_pred_classes, average='weighted')\n",
        "recall = recall_score(y_test_classes, y_pred_classes, average='weighted')\n",
        "\n",
        "print(f'Accuracy: {accuracy:.4f}')\n",
        "print(f'Weighted Precision: {precision:.4f}')\n",
        "print(f'Weighted Recall: {recall:.4f}')\n",
        "\n",
        "# Print classification report\n",
        "cr = classification_report(y_test_classes, y_pred_classes)\n",
        "print(cr)\n"
      ],
      "metadata": {
        "execution": {
          "iopub.status.busy": "2024-09-16T16:48:29.304360Z",
          "iopub.execute_input": "2024-09-16T16:48:29.305343Z",
          "iopub.status.idle": "2024-09-16T16:48:32.280536Z",
          "shell.execute_reply.started": "2024-09-16T16:48:29.305287Z",
          "shell.execute_reply": "2024-09-16T16:48:32.279228Z"
        },
        "editable": false,
        "trusted": true,
        "id": "UOQaENRhIrcc"
      },
      "execution_count": null,
      "outputs": []
    },
    {
      "cell_type": "code",
      "source": [
        "X_test[2]"
      ],
      "metadata": {
        "execution": {
          "iopub.status.busy": "2024-09-17T07:32:12.442249Z",
          "iopub.execute_input": "2024-09-17T07:32:12.442704Z",
          "iopub.status.idle": "2024-09-17T07:32:12.452610Z",
          "shell.execute_reply.started": "2024-09-17T07:32:12.442661Z",
          "shell.execute_reply": "2024-09-17T07:32:12.451212Z"
        },
        "editable": false,
        "trusted": true,
        "id": "9tzbb4PiIrcc"
      },
      "execution_count": null,
      "outputs": []
    },
    {
      "cell_type": "code",
      "source": [],
      "metadata": {
        "editable": false,
        "id": "rT47JfzHIrcc"
      },
      "execution_count": null,
      "outputs": []
    }
  ]
}